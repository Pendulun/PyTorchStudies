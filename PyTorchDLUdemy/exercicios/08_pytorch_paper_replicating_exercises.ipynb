{
  "nbformat": 4,
  "nbformat_minor": 0,
  "metadata": {
    "colab": {
      "provenance": []
    },
    "kernelspec": {
      "name": "python3",
      "display_name": "Python 3"
    },
    "language_info": {
      "name": "python"
    },
    "accelerator": "GPU",
    "gpuClass": "standard",
    "widgets": {
      "application/vnd.jupyter.widget-state+json": {
        "c6b2a3288001497fa497d45911d6af0b": {
          "model_module": "@jupyter-widgets/controls",
          "model_name": "HBoxModel",
          "model_module_version": "1.5.0",
          "state": {
            "_dom_classes": [],
            "_model_module": "@jupyter-widgets/controls",
            "_model_module_version": "1.5.0",
            "_model_name": "HBoxModel",
            "_view_count": null,
            "_view_module": "@jupyter-widgets/controls",
            "_view_module_version": "1.5.0",
            "_view_name": "HBoxView",
            "box_style": "",
            "children": [
              "IPY_MODEL_7da951e890cb45ce8ff92cf8954e0de3",
              "IPY_MODEL_43c5b7bc549a440496865a0455e378d2",
              "IPY_MODEL_92e5b2e24e1b49d3bb84ed54e7b9ba1c"
            ],
            "layout": "IPY_MODEL_b6cfd98dfc7e40959ba779c242d0e7dc"
          }
        },
        "7da951e890cb45ce8ff92cf8954e0de3": {
          "model_module": "@jupyter-widgets/controls",
          "model_name": "HTMLModel",
          "model_module_version": "1.5.0",
          "state": {
            "_dom_classes": [],
            "_model_module": "@jupyter-widgets/controls",
            "_model_module_version": "1.5.0",
            "_model_name": "HTMLModel",
            "_view_count": null,
            "_view_module": "@jupyter-widgets/controls",
            "_view_module_version": "1.5.0",
            "_view_name": "HTMLView",
            "description": "",
            "description_tooltip": null,
            "layout": "IPY_MODEL_f62013a0d76c4a5ba8d27cf6b05642b7",
            "placeholder": "​",
            "style": "IPY_MODEL_e83ef71cda2b4781a00d59d8c5fdb52a",
            "value": "100%"
          }
        },
        "43c5b7bc549a440496865a0455e378d2": {
          "model_module": "@jupyter-widgets/controls",
          "model_name": "FloatProgressModel",
          "model_module_version": "1.5.0",
          "state": {
            "_dom_classes": [],
            "_model_module": "@jupyter-widgets/controls",
            "_model_module_version": "1.5.0",
            "_model_name": "FloatProgressModel",
            "_view_count": null,
            "_view_module": "@jupyter-widgets/controls",
            "_view_module_version": "1.5.0",
            "_view_name": "ProgressView",
            "bar_style": "success",
            "description": "",
            "description_tooltip": null,
            "layout": "IPY_MODEL_d975840b02e648c79cf000884da712a6",
            "max": 10,
            "min": 0,
            "orientation": "horizontal",
            "style": "IPY_MODEL_240aa2d8e69644c6b81dccc698514e84",
            "value": 10
          }
        },
        "92e5b2e24e1b49d3bb84ed54e7b9ba1c": {
          "model_module": "@jupyter-widgets/controls",
          "model_name": "HTMLModel",
          "model_module_version": "1.5.0",
          "state": {
            "_dom_classes": [],
            "_model_module": "@jupyter-widgets/controls",
            "_model_module_version": "1.5.0",
            "_model_name": "HTMLModel",
            "_view_count": null,
            "_view_module": "@jupyter-widgets/controls",
            "_view_module_version": "1.5.0",
            "_view_name": "HTMLView",
            "description": "",
            "description_tooltip": null,
            "layout": "IPY_MODEL_a2994faa7d654361a2ad5bbbda704b1e",
            "placeholder": "​",
            "style": "IPY_MODEL_ae2dc010edff4f5c92e5de82d4519bdd",
            "value": " 10/10 [00:50&lt;00:00,  4.45s/it]"
          }
        },
        "b6cfd98dfc7e40959ba779c242d0e7dc": {
          "model_module": "@jupyter-widgets/base",
          "model_name": "LayoutModel",
          "model_module_version": "1.2.0",
          "state": {
            "_model_module": "@jupyter-widgets/base",
            "_model_module_version": "1.2.0",
            "_model_name": "LayoutModel",
            "_view_count": null,
            "_view_module": "@jupyter-widgets/base",
            "_view_module_version": "1.2.0",
            "_view_name": "LayoutView",
            "align_content": null,
            "align_items": null,
            "align_self": null,
            "border": null,
            "bottom": null,
            "display": null,
            "flex": null,
            "flex_flow": null,
            "grid_area": null,
            "grid_auto_columns": null,
            "grid_auto_flow": null,
            "grid_auto_rows": null,
            "grid_column": null,
            "grid_gap": null,
            "grid_row": null,
            "grid_template_areas": null,
            "grid_template_columns": null,
            "grid_template_rows": null,
            "height": null,
            "justify_content": null,
            "justify_items": null,
            "left": null,
            "margin": null,
            "max_height": null,
            "max_width": null,
            "min_height": null,
            "min_width": null,
            "object_fit": null,
            "object_position": null,
            "order": null,
            "overflow": null,
            "overflow_x": null,
            "overflow_y": null,
            "padding": null,
            "right": null,
            "top": null,
            "visibility": null,
            "width": null
          }
        },
        "f62013a0d76c4a5ba8d27cf6b05642b7": {
          "model_module": "@jupyter-widgets/base",
          "model_name": "LayoutModel",
          "model_module_version": "1.2.0",
          "state": {
            "_model_module": "@jupyter-widgets/base",
            "_model_module_version": "1.2.0",
            "_model_name": "LayoutModel",
            "_view_count": null,
            "_view_module": "@jupyter-widgets/base",
            "_view_module_version": "1.2.0",
            "_view_name": "LayoutView",
            "align_content": null,
            "align_items": null,
            "align_self": null,
            "border": null,
            "bottom": null,
            "display": null,
            "flex": null,
            "flex_flow": null,
            "grid_area": null,
            "grid_auto_columns": null,
            "grid_auto_flow": null,
            "grid_auto_rows": null,
            "grid_column": null,
            "grid_gap": null,
            "grid_row": null,
            "grid_template_areas": null,
            "grid_template_columns": null,
            "grid_template_rows": null,
            "height": null,
            "justify_content": null,
            "justify_items": null,
            "left": null,
            "margin": null,
            "max_height": null,
            "max_width": null,
            "min_height": null,
            "min_width": null,
            "object_fit": null,
            "object_position": null,
            "order": null,
            "overflow": null,
            "overflow_x": null,
            "overflow_y": null,
            "padding": null,
            "right": null,
            "top": null,
            "visibility": null,
            "width": null
          }
        },
        "e83ef71cda2b4781a00d59d8c5fdb52a": {
          "model_module": "@jupyter-widgets/controls",
          "model_name": "DescriptionStyleModel",
          "model_module_version": "1.5.0",
          "state": {
            "_model_module": "@jupyter-widgets/controls",
            "_model_module_version": "1.5.0",
            "_model_name": "DescriptionStyleModel",
            "_view_count": null,
            "_view_module": "@jupyter-widgets/base",
            "_view_module_version": "1.2.0",
            "_view_name": "StyleView",
            "description_width": ""
          }
        },
        "d975840b02e648c79cf000884da712a6": {
          "model_module": "@jupyter-widgets/base",
          "model_name": "LayoutModel",
          "model_module_version": "1.2.0",
          "state": {
            "_model_module": "@jupyter-widgets/base",
            "_model_module_version": "1.2.0",
            "_model_name": "LayoutModel",
            "_view_count": null,
            "_view_module": "@jupyter-widgets/base",
            "_view_module_version": "1.2.0",
            "_view_name": "LayoutView",
            "align_content": null,
            "align_items": null,
            "align_self": null,
            "border": null,
            "bottom": null,
            "display": null,
            "flex": null,
            "flex_flow": null,
            "grid_area": null,
            "grid_auto_columns": null,
            "grid_auto_flow": null,
            "grid_auto_rows": null,
            "grid_column": null,
            "grid_gap": null,
            "grid_row": null,
            "grid_template_areas": null,
            "grid_template_columns": null,
            "grid_template_rows": null,
            "height": null,
            "justify_content": null,
            "justify_items": null,
            "left": null,
            "margin": null,
            "max_height": null,
            "max_width": null,
            "min_height": null,
            "min_width": null,
            "object_fit": null,
            "object_position": null,
            "order": null,
            "overflow": null,
            "overflow_x": null,
            "overflow_y": null,
            "padding": null,
            "right": null,
            "top": null,
            "visibility": null,
            "width": null
          }
        },
        "240aa2d8e69644c6b81dccc698514e84": {
          "model_module": "@jupyter-widgets/controls",
          "model_name": "ProgressStyleModel",
          "model_module_version": "1.5.0",
          "state": {
            "_model_module": "@jupyter-widgets/controls",
            "_model_module_version": "1.5.0",
            "_model_name": "ProgressStyleModel",
            "_view_count": null,
            "_view_module": "@jupyter-widgets/base",
            "_view_module_version": "1.2.0",
            "_view_name": "StyleView",
            "bar_color": null,
            "description_width": ""
          }
        },
        "a2994faa7d654361a2ad5bbbda704b1e": {
          "model_module": "@jupyter-widgets/base",
          "model_name": "LayoutModel",
          "model_module_version": "1.2.0",
          "state": {
            "_model_module": "@jupyter-widgets/base",
            "_model_module_version": "1.2.0",
            "_model_name": "LayoutModel",
            "_view_count": null,
            "_view_module": "@jupyter-widgets/base",
            "_view_module_version": "1.2.0",
            "_view_name": "LayoutView",
            "align_content": null,
            "align_items": null,
            "align_self": null,
            "border": null,
            "bottom": null,
            "display": null,
            "flex": null,
            "flex_flow": null,
            "grid_area": null,
            "grid_auto_columns": null,
            "grid_auto_flow": null,
            "grid_auto_rows": null,
            "grid_column": null,
            "grid_gap": null,
            "grid_row": null,
            "grid_template_areas": null,
            "grid_template_columns": null,
            "grid_template_rows": null,
            "height": null,
            "justify_content": null,
            "justify_items": null,
            "left": null,
            "margin": null,
            "max_height": null,
            "max_width": null,
            "min_height": null,
            "min_width": null,
            "object_fit": null,
            "object_position": null,
            "order": null,
            "overflow": null,
            "overflow_x": null,
            "overflow_y": null,
            "padding": null,
            "right": null,
            "top": null,
            "visibility": null,
            "width": null
          }
        },
        "ae2dc010edff4f5c92e5de82d4519bdd": {
          "model_module": "@jupyter-widgets/controls",
          "model_name": "DescriptionStyleModel",
          "model_module_version": "1.5.0",
          "state": {
            "_model_module": "@jupyter-widgets/controls",
            "_model_module_version": "1.5.0",
            "_model_name": "DescriptionStyleModel",
            "_view_count": null,
            "_view_module": "@jupyter-widgets/base",
            "_view_module_version": "1.2.0",
            "_view_name": "StyleView",
            "description_width": ""
          }
        },
        "51c6bdbad7dc4dd8a535869b9fb89727": {
          "model_module": "@jupyter-widgets/controls",
          "model_name": "HBoxModel",
          "model_module_version": "1.5.0",
          "state": {
            "_dom_classes": [],
            "_model_module": "@jupyter-widgets/controls",
            "_model_module_version": "1.5.0",
            "_model_name": "HBoxModel",
            "_view_count": null,
            "_view_module": "@jupyter-widgets/controls",
            "_view_module_version": "1.5.0",
            "_view_name": "HBoxView",
            "box_style": "",
            "children": [
              "IPY_MODEL_7e9991a0f7e3464c95213131ae078506",
              "IPY_MODEL_6723d9b0cfa6466dbe3a97fbf680409f",
              "IPY_MODEL_bfcdf98c51e648e19f52adb9267350a3"
            ],
            "layout": "IPY_MODEL_d317082c4a3d4bdc99536f0f7c892d91"
          }
        },
        "7e9991a0f7e3464c95213131ae078506": {
          "model_module": "@jupyter-widgets/controls",
          "model_name": "HTMLModel",
          "model_module_version": "1.5.0",
          "state": {
            "_dom_classes": [],
            "_model_module": "@jupyter-widgets/controls",
            "_model_module_version": "1.5.0",
            "_model_name": "HTMLModel",
            "_view_count": null,
            "_view_module": "@jupyter-widgets/controls",
            "_view_module_version": "1.5.0",
            "_view_name": "HTMLView",
            "description": "",
            "description_tooltip": null,
            "layout": "IPY_MODEL_e1391b5969fd4295a7103690cce1f440",
            "placeholder": "​",
            "style": "IPY_MODEL_942bfd3e71b0409f998bde79370d07e7",
            "value": "100%"
          }
        },
        "6723d9b0cfa6466dbe3a97fbf680409f": {
          "model_module": "@jupyter-widgets/controls",
          "model_name": "FloatProgressModel",
          "model_module_version": "1.5.0",
          "state": {
            "_dom_classes": [],
            "_model_module": "@jupyter-widgets/controls",
            "_model_module_version": "1.5.0",
            "_model_name": "FloatProgressModel",
            "_view_count": null,
            "_view_module": "@jupyter-widgets/controls",
            "_view_module_version": "1.5.0",
            "_view_name": "ProgressView",
            "bar_style": "success",
            "description": "",
            "description_tooltip": null,
            "layout": "IPY_MODEL_0da5ed32029c46f19452c136f7aeb0aa",
            "max": 10,
            "min": 0,
            "orientation": "horizontal",
            "style": "IPY_MODEL_61d40d25e90e43828d9cd3ae967bea0d",
            "value": 10
          }
        },
        "bfcdf98c51e648e19f52adb9267350a3": {
          "model_module": "@jupyter-widgets/controls",
          "model_name": "HTMLModel",
          "model_module_version": "1.5.0",
          "state": {
            "_dom_classes": [],
            "_model_module": "@jupyter-widgets/controls",
            "_model_module_version": "1.5.0",
            "_model_name": "HTMLModel",
            "_view_count": null,
            "_view_module": "@jupyter-widgets/controls",
            "_view_module_version": "1.5.0",
            "_view_name": "HTMLView",
            "description": "",
            "description_tooltip": null,
            "layout": "IPY_MODEL_c4d84af7932f4c6fa70aa77e133df0cd",
            "placeholder": "​",
            "style": "IPY_MODEL_172c29f12e1b4f16a8a8b9d4653d64d1",
            "value": " 10/10 [02:06&lt;00:00, 12.79s/it]"
          }
        },
        "d317082c4a3d4bdc99536f0f7c892d91": {
          "model_module": "@jupyter-widgets/base",
          "model_name": "LayoutModel",
          "model_module_version": "1.2.0",
          "state": {
            "_model_module": "@jupyter-widgets/base",
            "_model_module_version": "1.2.0",
            "_model_name": "LayoutModel",
            "_view_count": null,
            "_view_module": "@jupyter-widgets/base",
            "_view_module_version": "1.2.0",
            "_view_name": "LayoutView",
            "align_content": null,
            "align_items": null,
            "align_self": null,
            "border": null,
            "bottom": null,
            "display": null,
            "flex": null,
            "flex_flow": null,
            "grid_area": null,
            "grid_auto_columns": null,
            "grid_auto_flow": null,
            "grid_auto_rows": null,
            "grid_column": null,
            "grid_gap": null,
            "grid_row": null,
            "grid_template_areas": null,
            "grid_template_columns": null,
            "grid_template_rows": null,
            "height": null,
            "justify_content": null,
            "justify_items": null,
            "left": null,
            "margin": null,
            "max_height": null,
            "max_width": null,
            "min_height": null,
            "min_width": null,
            "object_fit": null,
            "object_position": null,
            "order": null,
            "overflow": null,
            "overflow_x": null,
            "overflow_y": null,
            "padding": null,
            "right": null,
            "top": null,
            "visibility": null,
            "width": null
          }
        },
        "e1391b5969fd4295a7103690cce1f440": {
          "model_module": "@jupyter-widgets/base",
          "model_name": "LayoutModel",
          "model_module_version": "1.2.0",
          "state": {
            "_model_module": "@jupyter-widgets/base",
            "_model_module_version": "1.2.0",
            "_model_name": "LayoutModel",
            "_view_count": null,
            "_view_module": "@jupyter-widgets/base",
            "_view_module_version": "1.2.0",
            "_view_name": "LayoutView",
            "align_content": null,
            "align_items": null,
            "align_self": null,
            "border": null,
            "bottom": null,
            "display": null,
            "flex": null,
            "flex_flow": null,
            "grid_area": null,
            "grid_auto_columns": null,
            "grid_auto_flow": null,
            "grid_auto_rows": null,
            "grid_column": null,
            "grid_gap": null,
            "grid_row": null,
            "grid_template_areas": null,
            "grid_template_columns": null,
            "grid_template_rows": null,
            "height": null,
            "justify_content": null,
            "justify_items": null,
            "left": null,
            "margin": null,
            "max_height": null,
            "max_width": null,
            "min_height": null,
            "min_width": null,
            "object_fit": null,
            "object_position": null,
            "order": null,
            "overflow": null,
            "overflow_x": null,
            "overflow_y": null,
            "padding": null,
            "right": null,
            "top": null,
            "visibility": null,
            "width": null
          }
        },
        "942bfd3e71b0409f998bde79370d07e7": {
          "model_module": "@jupyter-widgets/controls",
          "model_name": "DescriptionStyleModel",
          "model_module_version": "1.5.0",
          "state": {
            "_model_module": "@jupyter-widgets/controls",
            "_model_module_version": "1.5.0",
            "_model_name": "DescriptionStyleModel",
            "_view_count": null,
            "_view_module": "@jupyter-widgets/base",
            "_view_module_version": "1.2.0",
            "_view_name": "StyleView",
            "description_width": ""
          }
        },
        "0da5ed32029c46f19452c136f7aeb0aa": {
          "model_module": "@jupyter-widgets/base",
          "model_name": "LayoutModel",
          "model_module_version": "1.2.0",
          "state": {
            "_model_module": "@jupyter-widgets/base",
            "_model_module_version": "1.2.0",
            "_model_name": "LayoutModel",
            "_view_count": null,
            "_view_module": "@jupyter-widgets/base",
            "_view_module_version": "1.2.0",
            "_view_name": "LayoutView",
            "align_content": null,
            "align_items": null,
            "align_self": null,
            "border": null,
            "bottom": null,
            "display": null,
            "flex": null,
            "flex_flow": null,
            "grid_area": null,
            "grid_auto_columns": null,
            "grid_auto_flow": null,
            "grid_auto_rows": null,
            "grid_column": null,
            "grid_gap": null,
            "grid_row": null,
            "grid_template_areas": null,
            "grid_template_columns": null,
            "grid_template_rows": null,
            "height": null,
            "justify_content": null,
            "justify_items": null,
            "left": null,
            "margin": null,
            "max_height": null,
            "max_width": null,
            "min_height": null,
            "min_width": null,
            "object_fit": null,
            "object_position": null,
            "order": null,
            "overflow": null,
            "overflow_x": null,
            "overflow_y": null,
            "padding": null,
            "right": null,
            "top": null,
            "visibility": null,
            "width": null
          }
        },
        "61d40d25e90e43828d9cd3ae967bea0d": {
          "model_module": "@jupyter-widgets/controls",
          "model_name": "ProgressStyleModel",
          "model_module_version": "1.5.0",
          "state": {
            "_model_module": "@jupyter-widgets/controls",
            "_model_module_version": "1.5.0",
            "_model_name": "ProgressStyleModel",
            "_view_count": null,
            "_view_module": "@jupyter-widgets/base",
            "_view_module_version": "1.2.0",
            "_view_name": "StyleView",
            "bar_color": null,
            "description_width": ""
          }
        },
        "c4d84af7932f4c6fa70aa77e133df0cd": {
          "model_module": "@jupyter-widgets/base",
          "model_name": "LayoutModel",
          "model_module_version": "1.2.0",
          "state": {
            "_model_module": "@jupyter-widgets/base",
            "_model_module_version": "1.2.0",
            "_model_name": "LayoutModel",
            "_view_count": null,
            "_view_module": "@jupyter-widgets/base",
            "_view_module_version": "1.2.0",
            "_view_name": "LayoutView",
            "align_content": null,
            "align_items": null,
            "align_self": null,
            "border": null,
            "bottom": null,
            "display": null,
            "flex": null,
            "flex_flow": null,
            "grid_area": null,
            "grid_auto_columns": null,
            "grid_auto_flow": null,
            "grid_auto_rows": null,
            "grid_column": null,
            "grid_gap": null,
            "grid_row": null,
            "grid_template_areas": null,
            "grid_template_columns": null,
            "grid_template_rows": null,
            "height": null,
            "justify_content": null,
            "justify_items": null,
            "left": null,
            "margin": null,
            "max_height": null,
            "max_width": null,
            "min_height": null,
            "min_width": null,
            "object_fit": null,
            "object_position": null,
            "order": null,
            "overflow": null,
            "overflow_x": null,
            "overflow_y": null,
            "padding": null,
            "right": null,
            "top": null,
            "visibility": null,
            "width": null
          }
        },
        "172c29f12e1b4f16a8a8b9d4653d64d1": {
          "model_module": "@jupyter-widgets/controls",
          "model_name": "DescriptionStyleModel",
          "model_module_version": "1.5.0",
          "state": {
            "_model_module": "@jupyter-widgets/controls",
            "_model_module_version": "1.5.0",
            "_model_name": "DescriptionStyleModel",
            "_view_count": null,
            "_view_module": "@jupyter-widgets/base",
            "_view_module_version": "1.2.0",
            "_view_name": "StyleView",
            "description_width": ""
          }
        }
      }
    }
  },
  "cells": [
    {
      "cell_type": "markdown",
      "source": [
        "# 08. PyTorch Experiment Tracking Exercises\n",
        "\n",
        "Welcome to the 08. PyTorch Paper Replicating exercises.\n",
        "\n",
        "Your objective is to write code to satisify each of the exercises below.\n",
        "\n",
        "Some starter code has been provided to make sure you have all the resources you need.\n",
        "\n",
        "> **Note:** There may be more than one solution to each of the exercises.\n",
        "\n",
        "## Resources\n",
        "\n",
        "1. These exercises/solutions are based on [section 08. PyTorch Paper Replicating](https://www.learnpytorch.io/08_pytorch_paper_replicating/) of the Learn PyTorch for Deep Learning course by Zero to Mastery.\n",
        "2. See a live [walkthrough of the solutions (errors and all) on YouTube](https://youtu.be/tjpW_BY8y3g) (but try the exercises yourself first!).\n",
        "3. See [all solutions on the course GitHub](https://github.com/mrdbourke/pytorch-deep-learning/tree/main/extras/solutions).\n",
        "\n",
        "> **Note:** The first section of this notebook is dedicated to getting various helper functions and datasets used for the exercises. The exercises start at the heading \"Exercise 1: ...\"."
      ],
      "metadata": {
        "id": "zNqPNlYylluR"
      }
    },
    {
      "cell_type": "markdown",
      "source": [
        "### Get various imports and helper functions\n",
        "\n",
        "The code in the following cells prepares imports and data for the exercises below. They are taken from [08. PyTorch Paper Replicating](https://www.learnpytorch.io/08_pytorch_paper_replicating/)."
      ],
      "metadata": {
        "id": "sf8ab9cyHTzU"
      }
    },
    {
      "cell_type": "code",
      "source": [
        "# For this notebook to run with updated APIs, we need torch 1.12+ and torchvision 0.13+\n",
        "try:\n",
        "    import torch\n",
        "    import torchvision\n",
        "    assert int(torch.__version__.split(\".\")[1]) >= 12, \"torch version should be 1.12+\"\n",
        "    assert int(torchvision.__version__.split(\".\")[1]) >= 13, \"torchvision version should be 0.13+\"\n",
        "    print(f\"torch version: {torch.__version__}\")\n",
        "    print(f\"torchvision version: {torchvision.__version__}\")\n",
        "except:\n",
        "    print(f\"[INFO] torch/torchvision versions not as required, installing nightly versions.\")\n",
        "    !pip3 install -U --pre torch torchvision torchaudio --extra-index-url https://download.pytorch.org/whl/nightly/cu113\n",
        "    import torch\n",
        "    import torchvision\n",
        "    print(f\"torch version: {torch.__version__}\")\n",
        "    print(f\"torchvision version: {torchvision.__version__}\")\n"
      ],
      "metadata": {
        "colab": {
          "base_uri": "https://localhost:8080/"
        },
        "id": "ChRaHUSJ8DYZ",
        "outputId": "0f024091-0258-4b9d-a40f-0e7c6486cbcd"
      },
      "execution_count": 1,
      "outputs": [
        {
          "output_type": "stream",
          "name": "stdout",
          "text": [
            "[INFO] torch/torchvision versions not as required, installing nightly versions.\n",
            "Looking in indexes: https://pypi.org/simple, https://download.pytorch.org/whl/nightly/cu113\n",
            "Requirement already satisfied: torch in /usr/local/lib/python3.10/dist-packages (2.1.0+cu118)\n",
            "Requirement already satisfied: torchvision in /usr/local/lib/python3.10/dist-packages (0.16.0+cu118)\n",
            "Requirement already satisfied: torchaudio in /usr/local/lib/python3.10/dist-packages (2.1.0+cu118)\n",
            "Requirement already satisfied: filelock in /usr/local/lib/python3.10/dist-packages (from torch) (3.12.4)\n",
            "Requirement already satisfied: typing-extensions in /usr/local/lib/python3.10/dist-packages (from torch) (4.5.0)\n",
            "Requirement already satisfied: sympy in /usr/local/lib/python3.10/dist-packages (from torch) (1.12)\n",
            "Requirement already satisfied: networkx in /usr/local/lib/python3.10/dist-packages (from torch) (3.2)\n",
            "Requirement already satisfied: jinja2 in /usr/local/lib/python3.10/dist-packages (from torch) (3.1.2)\n",
            "Requirement already satisfied: fsspec in /usr/local/lib/python3.10/dist-packages (from torch) (2023.6.0)\n",
            "Requirement already satisfied: triton==2.1.0 in /usr/local/lib/python3.10/dist-packages (from torch) (2.1.0)\n",
            "Requirement already satisfied: numpy in /usr/local/lib/python3.10/dist-packages (from torchvision) (1.23.5)\n",
            "Requirement already satisfied: requests in /usr/local/lib/python3.10/dist-packages (from torchvision) (2.31.0)\n",
            "Requirement already satisfied: pillow!=8.3.*,>=5.3.0 in /usr/local/lib/python3.10/dist-packages (from torchvision) (9.4.0)\n",
            "Requirement already satisfied: MarkupSafe>=2.0 in /usr/local/lib/python3.10/dist-packages (from jinja2->torch) (2.1.3)\n",
            "Requirement already satisfied: charset-normalizer<4,>=2 in /usr/local/lib/python3.10/dist-packages (from requests->torchvision) (3.3.1)\n",
            "Requirement already satisfied: idna<4,>=2.5 in /usr/local/lib/python3.10/dist-packages (from requests->torchvision) (3.4)\n",
            "Requirement already satisfied: urllib3<3,>=1.21.1 in /usr/local/lib/python3.10/dist-packages (from requests->torchvision) (2.0.7)\n",
            "Requirement already satisfied: certifi>=2017.4.17 in /usr/local/lib/python3.10/dist-packages (from requests->torchvision) (2023.7.22)\n",
            "Requirement already satisfied: mpmath>=0.19 in /usr/local/lib/python3.10/dist-packages (from sympy->torch) (1.3.0)\n",
            "torch version: 2.1.0+cu118\n",
            "torchvision version: 0.16.0+cu118\n"
          ]
        }
      ]
    },
    {
      "cell_type": "code",
      "source": [
        "# Continue with regular imports\n",
        "import matplotlib.pyplot as plt\n",
        "import torch\n",
        "import torchvision\n",
        "\n",
        "from torch import nn\n",
        "from torchvision import transforms\n",
        "\n",
        "# Try to get torchinfo, install it if it doesn't work\n",
        "try:\n",
        "    from torchinfo import summary\n",
        "except:\n",
        "    print(\"[INFO] Couldn't find torchinfo... installing it.\")\n",
        "    !pip install -q torchinfo\n",
        "    from torchinfo import summary\n",
        "\n",
        "# Try to import the going_modular directory, download it from GitHub if it doesn't work\n",
        "try:\n",
        "    from going_modular.going_modular import data_setup, engine\n",
        "    from helper_functions import download_data, set_seeds, plot_loss_curves\n",
        "except:\n",
        "    # Get the going_modular scripts\n",
        "    print(\"[INFO] Couldn't find going_modular or helper_functions scripts... downloading them from GitHub.\")\n",
        "    !git clone https://github.com/mrdbourke/pytorch-deep-learning\n",
        "    !mv pytorch-deep-learning/going_modular .\n",
        "    !mv pytorch-deep-learning/helper_functions.py . # get the helper_functions.py script\n",
        "    !rm -rf pytorch-deep-learning\n",
        "    from going_modular.going_modular import data_setup, engine\n",
        "    from helper_functions import download_data, set_seeds, plot_loss_curves"
      ],
      "metadata": {
        "id": "Y5H5P8EjCNGK",
        "colab": {
          "base_uri": "https://localhost:8080/"
        },
        "outputId": "0bd29b78-ccde-459f-eb3d-d709ba43eece"
      },
      "execution_count": 2,
      "outputs": [
        {
          "output_type": "stream",
          "name": "stdout",
          "text": [
            "[INFO] Couldn't find torchinfo... installing it.\n",
            "[INFO] Couldn't find going_modular or helper_functions scripts... downloading them from GitHub.\n",
            "Cloning into 'pytorch-deep-learning'...\n",
            "remote: Enumerating objects: 4036, done.\u001b[K\n",
            "remote: Counting objects: 100% (1224/1224), done.\u001b[K\n",
            "remote: Compressing objects: 100% (227/227), done.\u001b[K\n",
            "remote: Total 4036 (delta 1064), reused 1100 (delta 994), pack-reused 2812\u001b[K\n",
            "Receiving objects: 100% (4036/4036), 651.60 MiB | 26.28 MiB/s, done.\n",
            "Resolving deltas: 100% (2357/2357), done.\n",
            "Updating files: 100% (248/248), done.\n"
          ]
        }
      ]
    },
    {
      "cell_type": "code",
      "source": [
        "device = \"cuda\" if torch.cuda.is_available() else \"cpu\"\n",
        "device"
      ],
      "metadata": {
        "colab": {
          "base_uri": "https://localhost:8080/",
          "height": 35
        },
        "id": "bE1AAH_uCjiP",
        "outputId": "7b4e544b-cf40-4f0b-a136-40aeffbd98f8"
      },
      "execution_count": 3,
      "outputs": [
        {
          "output_type": "execute_result",
          "data": {
            "text/plain": [
              "'cuda'"
            ],
            "application/vnd.google.colaboratory.intrinsic+json": {
              "type": "string"
            }
          },
          "metadata": {},
          "execution_count": 3
        }
      ]
    },
    {
      "cell_type": "markdown",
      "source": [
        "### Get data\n",
        "\n",
        "Want to download the data we've been using in PyTorch Paper Replicating: https://www.learnpytorch.io/08_pytorch_paper_replicating/#1-get-data"
      ],
      "metadata": {
        "id": "GmS5yuvxCpLp"
      }
    },
    {
      "cell_type": "code",
      "source": [
        "# Download pizza, steak, sushi images from GitHub\n",
        "image_path = download_data(source=\"https://github.com/mrdbourke/pytorch-deep-learning/raw/main/data/pizza_steak_sushi.zip\",\n",
        "                           destination=\"pizza_steak_sushi\")\n",
        "image_path"
      ],
      "metadata": {
        "colab": {
          "base_uri": "https://localhost:8080/"
        },
        "id": "dm772wqgCzN9",
        "outputId": "1ec56cfc-5edc-4ee0-82e6-da7901498a27"
      },
      "execution_count": 4,
      "outputs": [
        {
          "output_type": "stream",
          "name": "stdout",
          "text": [
            "[INFO] Did not find data/pizza_steak_sushi directory, creating one...\n",
            "[INFO] Downloading pizza_steak_sushi.zip from https://github.com/mrdbourke/pytorch-deep-learning/raw/main/data/pizza_steak_sushi.zip...\n",
            "[INFO] Unzipping pizza_steak_sushi.zip data...\n"
          ]
        },
        {
          "output_type": "execute_result",
          "data": {
            "text/plain": [
              "PosixPath('data/pizza_steak_sushi')"
            ]
          },
          "metadata": {},
          "execution_count": 4
        }
      ]
    },
    {
      "cell_type": "code",
      "source": [
        "# Setup directory paths to train and test images\n",
        "train_dir = image_path / \"train\"\n",
        "test_dir = image_path / \"test\""
      ],
      "metadata": {
        "id": "r1ML2c-dCzCi"
      },
      "execution_count": 5,
      "outputs": []
    },
    {
      "cell_type": "markdown",
      "source": [
        "### Preprocess data\n",
        "\n",
        "Turn images into tensors using same code as PyTorch Paper Replicating section 2.1 and 2.2: https://www.learnpytorch.io/08_pytorch_paper_replicating/#21-prepare-transforms-for-images"
      ],
      "metadata": {
        "id": "nNBZ_2h_Cy86"
      }
    },
    {
      "cell_type": "code",
      "source": [
        "# Create image size (from Table 3 in the ViT paper)\n",
        "IMG_SIZE = 224\n",
        "\n",
        "# Create transform pipeline manually\n",
        "manual_transforms = transforms.Compose([\n",
        "    transforms.Resize((IMG_SIZE, IMG_SIZE)),\n",
        "    transforms.ToTensor(),\n",
        "])\n",
        "print(f\"Manually created transforms: {manual_transforms}\")"
      ],
      "metadata": {
        "colab": {
          "base_uri": "https://localhost:8080/"
        },
        "id": "mU0T4gP3DJdF",
        "outputId": "efd31af0-f488-492b-d904-e1d34d525440"
      },
      "execution_count": 6,
      "outputs": [
        {
          "output_type": "stream",
          "name": "stdout",
          "text": [
            "Manually created transforms: Compose(\n",
            "    Resize(size=(224, 224), interpolation=bilinear, max_size=None, antialias=warn)\n",
            "    ToTensor()\n",
            ")\n"
          ]
        }
      ]
    },
    {
      "cell_type": "code",
      "source": [
        "# Set the batch size\n",
        "BATCH_SIZE = 32 # this is lower than the ViT paper but it's because we're starting small\n",
        "\n",
        "# Create data loaders\n",
        "train_dataloader, test_dataloader, class_names = data_setup.create_dataloaders(\n",
        "    train_dir=train_dir,\n",
        "    test_dir=test_dir,\n",
        "    transform=manual_transforms, # use manually created transforms\n",
        "    batch_size=BATCH_SIZE\n",
        ")\n",
        "\n",
        "train_dataloader, test_dataloader, class_names"
      ],
      "metadata": {
        "colab": {
          "base_uri": "https://localhost:8080/"
        },
        "id": "W4vWgIprDJau",
        "outputId": "492c0db9-32dd-4e45-adaa-ccb801119b16"
      },
      "execution_count": 7,
      "outputs": [
        {
          "output_type": "execute_result",
          "data": {
            "text/plain": [
              "(<torch.utils.data.dataloader.DataLoader at 0x7cc08c14e050>,\n",
              " <torch.utils.data.dataloader.DataLoader at 0x7cc08c14e5f0>,\n",
              " ['pizza', 'steak', 'sushi'])"
            ]
          },
          "metadata": {},
          "execution_count": 7
        }
      ]
    },
    {
      "cell_type": "code",
      "source": [
        "# Get a batch of images\n",
        "image_batch, label_batch = next(iter(train_dataloader))\n",
        "\n",
        "# Get a single image from the batch\n",
        "image, label = image_batch[0], label_batch[0]\n",
        "\n",
        "# View the batch shapes\n",
        "image.shape, label"
      ],
      "metadata": {
        "colab": {
          "base_uri": "https://localhost:8080/"
        },
        "id": "u7eLIFHyDJRr",
        "outputId": "f77c72c8-2796-4cad-9f03-a3a769c69c00"
      },
      "execution_count": 8,
      "outputs": [
        {
          "output_type": "execute_result",
          "data": {
            "text/plain": [
              "(torch.Size([3, 224, 224]), tensor(1))"
            ]
          },
          "metadata": {},
          "execution_count": 8
        }
      ]
    },
    {
      "cell_type": "code",
      "source": [
        "# Plot image with matplotlib\n",
        "plt.imshow(image.permute(1, 2, 0)) # rearrange image dimensions to suit matplotlib [color_channels, height, width] -> [height, width, color_channels]\n",
        "plt.title(class_names[label])\n",
        "plt.axis(False);"
      ],
      "metadata": {
        "colab": {
          "base_uri": "https://localhost:8080/",
          "height": 428
        },
        "id": "2yyNHCmCDbSR",
        "outputId": "c4a50ab0-5332-4926-96ac-51fea054a512"
      },
      "execution_count": 9,
      "outputs": [
        {
          "output_type": "display_data",
          "data": {
            "text/plain": [
              "<Figure size 640x480 with 1 Axes>"
            ],
            "image/png": "[encoded data removed]"
          },
          "metadata": {}
        }
      ]
    },
    {
      "cell_type": "markdown",
      "source": [
        "## 1. Replicate the ViT architecture we created with in-built [PyTorch transformer layers](https://pytorch.org/docs/stable/nn.html#transformer-layers).\n",
        "\n",
        "* You'll want to look into replacing our `TransformerEncoderBlock()` class with [`torch.nn.TransformerEncoderLayer()`](https://pytorch.org/docs/stable/generated/torch.nn.TransformerEncoderLayer.html#torch.nn.TransformerEncoderLayer) (these contain the same layers as our custom blocks).\n",
        "* You can stack `torch.nn.TransformerEncoderLayer()`'s on top of each other with [`torch.nn.TransformerEncoder()`](https://pytorch.org/docs/stable/generated/torch.nn.TransformerEncoder.html#torch.nn.TransformerEncoder)."
      ],
      "metadata": {
        "id": "nwmoMhW8IqSu"
      }
    },
    {
      "cell_type": "markdown",
      "source": [
        "Para o patch embedding inicial, eu preciso de:\n",
        "  * patch_size\n",
        "  * N_channels\n",
        "\n",
        "O embedding inicial transforma a imagem em patches de patch_size X patch_size. Isso totaliza k = (img_width / patch_size) X (img_height / patch_size) patches. Cada patch de shape (patch_size X patch_size X N_channels) terá esse valor de dimensionalidade de embedding depois de realizar o flatten.\n",
        "\n",
        "Para realizar esse embedding, podemos usar uma convolução 2d do Pytorch com kernel_size e stride igual a patch_size. Acredito que esse seja o modelo híbrido mencionado no paper. Se não, teríamos que fazer na mão a divisão da imagem em patches. Uma vez com a convolução feita, temos que realizar o flatten de cada patch embedding."
      ],
      "metadata": {
        "id": "9T97sDjwb7cf"
      }
    },
    {
      "cell_type": "code",
      "source": [
        "# TODO: your code\n",
        "class PatchEmbedding(nn.Module):\n",
        "  \"\"\"\n",
        "  Aplica uma convolução e depois um flatten\n",
        "  Precisa de imagens no formato (N, C, H, W)\n",
        "  N = batch size\n",
        "  C = channels\n",
        "  H = height\n",
        "  W = width\n",
        "\n",
        "  Retorna embeddings de shape (N, (H/patch_size) * (W/patch_size), n_dims)\n",
        "  O n_dims deve ser igual a C*patch_size*patch_size\n",
        "\n",
        "  Exemplo:\n",
        "  imgs shape: (32, 3, 224, 224)\n",
        "  patch_size = 16, n_channels=3, n_dims=768\n",
        "  Retorna: (32, (224/16)*(224/16)=196, 3*16*16=768)\n",
        "  \"\"\"\n",
        "  def __init__(self, patch_size:int=16, n_channels:int=3, n_dims:int=768):\n",
        "    super().__init__()\n",
        "\n",
        "    self.patch_size = patch_size\n",
        "    self.patcher = nn.Conv2d(in_channels=n_channels,\n",
        "                             out_channels=n_dims,\n",
        "                             kernel_size=patch_size,\n",
        "                             stride=patch_size, padding=0\n",
        "                             ) # (C_{out}, H_{out}, W_{out}) -> (n_dims, n_patches_H, n_patches_W)\n",
        "\n",
        "    self.flatten = nn.Flatten(start_dim=2, end_dim=3) # (n_dims, n_patches X n_patches)\n",
        "\n",
        "  def forward(self, x):\n",
        "    assert x.shape[-1] % self.patch_size == 0, f\"Dimensões da imagem devem ser divisíveis pelo patch_size {self.patch_size}\"\n",
        "\n",
        "    return self.flatten(self.patcher(x)).permute(0, 2, 1)"
      ],
      "metadata": {
        "id": "pmDd_YZ7VSrL"
      },
      "execution_count": 10,
      "outputs": []
    },
    {
      "cell_type": "code",
      "source": [
        "rand_img = torch.randn((1, 3, 224, 224))\n",
        "patcher = PatchEmbedding()\n",
        "patcher(rand_img).shape"
      ],
      "metadata": {
        "colab": {
          "base_uri": "https://localhost:8080/"
        },
        "id": "dU4Zk7wuwuk2",
        "outputId": "571b4cab-5f93-4a2e-a932-52eecb3750e9"
      },
      "execution_count": 11,
      "outputs": [
        {
          "output_type": "execute_result",
          "data": {
            "text/plain": [
              "torch.Size([1, 196, 768])"
            ]
          },
          "metadata": {},
          "execution_count": 11
        }
      ]
    },
    {
      "cell_type": "markdown",
      "source": [
        "Seguindo o exemplo da documentação da classe acima, teremos 196 patches com 768 dimensões por imagem.\n",
        "\n",
        "Uma vez com os patch embeddings, devemos adicionar um token de classe aprendível como se fosse um novo patch. Dessa forma, se o patch embedding resultante tiver shape de (32, 196, 768), adicionando mais um patch com 768 dimensões, teremos (32, 197, 768).\n",
        "\n",
        "Além disso, também devemos adicionar valores aprendíveis como positional embeddings a todo valor de toda imagem. Dessa forma, temos que criar outro tensor de shape (32, 197, 768) com requires_grad = True, para ser aprendido ao longo do treinamento e somá-lo ao embedding."
      ],
      "metadata": {
        "id": "8V-64C5WVMuR"
      }
    },
    {
      "cell_type": "code",
      "source": [
        "class PreEmbedder(nn.Module):\n",
        "  \"\"\"\n",
        "  Realiza o PatchEmbedding. Depois, concatena mais um patch de n_dims\n",
        "  com o tensor de classe. Depois, soma o positional embedding aprendível\n",
        "  ao embedding final.\n",
        "  A dimensionalidade do embedding por patch será igual a\n",
        "  n_channels*(patch_size**2).\n",
        "  O número total de patches será (img_shape[0]/patch_size) * (img_shape[1]/patch_size)\n",
        "\n",
        "  Retorna um tensor de shape: (batch_size, n_patches+1, n_dims)\n",
        "  \"\"\"\n",
        "  def __init__(self, patch_size:int=16, n_channels:int=3,\n",
        "               batch_size:int=1, img_shape:tuple=(224, 224)):\n",
        "    super().__init__()\n",
        "    n_dims = n_channels*(patch_size**2)\n",
        "    self.patch_embedder = PatchEmbedding(patch_size, n_channels, n_dims)\n",
        "\n",
        "    n_patches = int((img_shape[0]/patch_size) * (img_shape[1]/patch_size))\n",
        "    self.class_token = nn.Parameter(\n",
        "        torch.randn((batch_size, 1, n_dims)),\n",
        "                                        requires_grad = True)\n",
        "    self.pos_embeddings = nn.Parameter(\n",
        "        torch.randn((batch_size, n_patches+1, n_dims)),\n",
        "    requires_grad=True)\n",
        "\n",
        "  def forward(self, x):\n",
        "    x = self.patch_embedder(x)\n",
        "    x = torch.concat((self.class_token, x), dim=1)\n",
        "    return x+self.pos_embeddings\n"
      ],
      "metadata": {
        "id": "yJYfDJCMX6Pv"
      },
      "execution_count": 12,
      "outputs": []
    },
    {
      "cell_type": "code",
      "source": [
        "rand_img = torch.randn((1, 3, 224, 224))\n",
        "embedder = PreEmbedder()\n",
        "embedder(rand_img).shape"
      ],
      "metadata": {
        "colab": {
          "base_uri": "https://localhost:8080/"
        },
        "id": "L-EWWJd-xP1t",
        "outputId": "9a185e27-caeb-4557-a7f0-e4328cb5da83"
      },
      "execution_count": 13,
      "outputs": [
        {
          "output_type": "execute_result",
          "data": {
            "text/plain": [
              "torch.Size([1, 197, 768])"
            ]
          },
          "metadata": {},
          "execution_count": 13
        }
      ]
    },
    {
      "cell_type": "markdown",
      "source": [
        "Agora com a parte do embedding inicial pronta, passo às camadas de TransformerEncoder. Vou precisar de:\n",
        "* N_dims: A dimensionalidade de embedding a ser mantida\n",
        "* N_heads: O quantidade de heads do Multihead self-attention\n",
        "* MLP_size: A quantidade de neurônios na camada oculta\n",
        "O Pytorch possui uma classe que já monta um TransformerEncoder de nome TransformerEncoderLayer.\n",
        "\n",
        "Temos que realizar o stack de j camadas de TransformerEncoder. Para tal, podemos usar uma classe do PyTorch chamada TransformerEncoder.\n"
      ],
      "metadata": {
        "id": "6O7Sy9H1v7AO"
      }
    },
    {
      "cell_type": "code",
      "source": [
        "class TransformerEncoderStack(nn.Module):\n",
        "  def __init__(self, n_dims:int=768, nhead:int=12, mlp_dim:int=3072,\n",
        "               dropout:int=0.1, n_layers:int=12):\n",
        "    super().__init__()\n",
        "    # Uma camada das várias a serem stackadas\n",
        "    self.transformer_encoder_layer = nn.TransformerEncoderLayer(\n",
        "        d_model=n_dims,\n",
        "        nhead=nhead,\n",
        "        dim_feedforward=mlp_dim,\n",
        "        dropout=dropout,\n",
        "        activation=\"gelu\", # De acordo com o paper\n",
        "        batch_first=True, # De acordo com o paper\n",
        "        norm_first=True, # De acordo com o paper\n",
        "    )\n",
        "    self.transformer_encoder_stack = nn.TransformerEncoder(self.transformer_encoder_layer,\n",
        "                                                           num_layers=n_layers,\n",
        "                                                           enable_nested_tensor=False # Para remover um warning\n",
        "                                                           )\n",
        "\n",
        "  def forward(self, x):\n",
        "    return self.transformer_encoder_stack(x)"
      ],
      "metadata": {
        "id": "v3440kZCyTBg"
      },
      "execution_count": 14,
      "outputs": []
    },
    {
      "cell_type": "code",
      "source": [
        "rand_img = torch.randn((1, 197, 768))\n",
        "encoder_stack = TransformerEncoderStack()\n",
        "encoder_stack(rand_img).shape"
      ],
      "metadata": {
        "colab": {
          "base_uri": "https://localhost:8080/"
        },
        "id": "Sc7ITwTe1jL5",
        "outputId": "1b6ac3a1-3b50-46b4-9910-9761f2061664"
      },
      "execution_count": 15,
      "outputs": [
        {
          "output_type": "execute_result",
          "data": {
            "text/plain": [
              "torch.Size([1, 197, 768])"
            ]
          },
          "metadata": {},
          "execution_count": 15
        }
      ]
    },
    {
      "cell_type": "markdown",
      "source": [
        "Depois de aplicar as várias camadas de encoder, devemos realizar a classificação usando um MLP. Antes desse MLP, no entanto, devemos aplicar uma camada de normalização.\n",
        "\n",
        "Devemos lembrar que passamos somente o primeiro encoded embedding resultante das várias camadas de TransformerEncoder para o MLP final como diz o paper. Ele é relativo ao embedding da classe adicionada no início como um novo patch.\n",
        "\n",
        "\n"
      ],
      "metadata": {
        "id": "Wq4eMUWw1faw"
      }
    },
    {
      "cell_type": "code",
      "source": [
        "class ClassificationHead(nn.Module):\n",
        "  def __init__(self, in_feats:int=768, out_feats:int=3):\n",
        "    super().__init__()\n",
        "    self.classifier = nn.Sequential(\n",
        "        nn.LayerNorm(normalized_shape=in_feats),\n",
        "        nn.Linear(in_features=in_feats,\n",
        "                  out_features=out_feats)\n",
        "    )\n",
        "\n",
        "  def forward(self, x):\n",
        "    return self.classifier(x)"
      ],
      "metadata": {
        "id": "-gBsOpxY2laS"
      },
      "execution_count": 16,
      "outputs": []
    },
    {
      "cell_type": "code",
      "source": [
        "rand_img = torch.randn((1, 1, 768))\n",
        "classifier = ClassificationHead()\n",
        "classifier(rand_img)"
      ],
      "metadata": {
        "colab": {
          "base_uri": "https://localhost:8080/"
        },
        "id": "r8-DlVzQ3HjH",
        "outputId": "278715ef-39fe-41e3-8648-9181602e612d"
      },
      "execution_count": 17,
      "outputs": [
        {
          "output_type": "execute_result",
          "data": {
            "text/plain": [
              "tensor([[[-0.4700, -0.3190,  0.4364]]], grad_fn=<ViewBackward0>)"
            ]
          },
          "metadata": {},
          "execution_count": 17
        }
      ]
    },
    {
      "cell_type": "markdown",
      "source": [
        "Agora, devemos juntar tudo em uma classe ViT só"
      ],
      "metadata": {
        "id": "zhlCtj7i3tS2"
      }
    },
    {
      "cell_type": "code",
      "source": [
        "class ViT(nn.Module):\n",
        "  def __init__(self, patch_size:int=16, n_channels:int=3,\n",
        "               batch_size:int=1, img_shape:tuple=(224, 224),\n",
        "               nhead:int=12, mlp_dim:int=3072,\n",
        "               dropout:int=0.1, n_layers:int=12,\n",
        "               out_feats:int=3):\n",
        "    super().__init__()\n",
        "    self.embedder = PreEmbedder(patch_size, n_channels,\n",
        "               batch_size, img_shape)\n",
        "\n",
        "    n_dims = n_channels*(patch_size**2)\n",
        "    self.encoder_stack = TransformerEncoderStack(n_dims, nhead, mlp_dim,\n",
        "               dropout, n_layers)\n",
        "\n",
        "    self.classifier = ClassificationHead(n_dims, out_feats)\n",
        "\n",
        "  def forward(self, x):\n",
        "    return self.classifier(self.encoder_stack(self.embedder(x))[:, 0])"
      ],
      "metadata": {
        "id": "qIYP2qsR3wbA"
      },
      "execution_count": 18,
      "outputs": []
    },
    {
      "cell_type": "code",
      "source": [
        "rand_img = torch.randn((1, 3, 224, 224))\n",
        "vit = ViT(batch_size=rand_img.shape[0])\n",
        "vit(rand_img)"
      ],
      "metadata": {
        "colab": {
          "base_uri": "https://localhost:8080/"
        },
        "id": "kwC-r62A4sYS",
        "outputId": "2cd5efae-ff6b-4a2d-d83a-082b9eccc2d5"
      },
      "execution_count": 19,
      "outputs": [
        {
          "output_type": "execute_result",
          "data": {
            "text/plain": [
              "tensor([[ 0.5078,  0.5258, -0.6221]], grad_fn=<AddmmBackward0>)"
            ]
          },
          "metadata": {},
          "execution_count": 19
        }
      ]
    },
    {
      "cell_type": "code",
      "source": [
        "vit"
      ],
      "metadata": {
        "colab": {
          "base_uri": "https://localhost:8080/"
        },
        "id": "xLXvq_4F6FY3",
        "outputId": "cddb8b1d-adf9-4497-f261-fd89bddca0af"
      },
      "execution_count": 20,
      "outputs": [
        {
          "output_type": "execute_result",
          "data": {
            "text/plain": [
              "ViT(\n",
              "  (embedder): PreEmbedder(\n",
              "    (patch_embedder): PatchEmbedding(\n",
              "      (patcher): Conv2d(3, 768, kernel_size=(16, 16), stride=(16, 16))\n",
              "      (flatten): Flatten(start_dim=2, end_dim=3)\n",
              "    )\n",
              "  )\n",
              "  (encoder_stack): TransformerEncoderStack(\n",
              "    (transformer_encoder_layer): TransformerEncoderLayer(\n",
              "      (self_attn): MultiheadAttention(\n",
              "        (out_proj): NonDynamicallyQuantizableLinear(in_features=768, out_features=768, bias=True)\n",
              "      )\n",
              "      (linear1): Linear(in_features=768, out_features=3072, bias=True)\n",
              "      (dropout): Dropout(p=0.1, inplace=False)\n",
              "      (linear2): Linear(in_features=3072, out_features=768, bias=True)\n",
              "      (norm1): LayerNorm((768,), eps=1e-05, elementwise_affine=True)\n",
              "      (norm2): LayerNorm((768,), eps=1e-05, elementwise_affine=True)\n",
              "      (dropout1): Dropout(p=0.1, inplace=False)\n",
              "      (dropout2): Dropout(p=0.1, inplace=False)\n",
              "    )\n",
              "    (transformer_encoder_stack): TransformerEncoder(\n",
              "      (layers): ModuleList(\n",
              "        (0-11): 12 x TransformerEncoderLayer(\n",
              "          (self_attn): MultiheadAttention(\n",
              "            (out_proj): NonDynamicallyQuantizableLinear(in_features=768, out_features=768, bias=True)\n",
              "          )\n",
              "          (linear1): Linear(in_features=768, out_features=3072, bias=True)\n",
              "          (dropout): Dropout(p=0.1, inplace=False)\n",
              "          (linear2): Linear(in_features=3072, out_features=768, bias=True)\n",
              "          (norm1): LayerNorm((768,), eps=1e-05, elementwise_affine=True)\n",
              "          (norm2): LayerNorm((768,), eps=1e-05, elementwise_affine=True)\n",
              "          (dropout1): Dropout(p=0.1, inplace=False)\n",
              "          (dropout2): Dropout(p=0.1, inplace=False)\n",
              "        )\n",
              "      )\n",
              "    )\n",
              "  )\n",
              "  (classifier): ClassificationHead(\n",
              "    (classifier): Sequential(\n",
              "      (0): LayerNorm((768,), eps=1e-05, elementwise_affine=True)\n",
              "      (1): Linear(in_features=768, out_features=3, bias=True)\n",
              "    )\n",
              "  )\n",
              ")"
            ]
          },
          "metadata": {},
          "execution_count": 20
        }
      ]
    },
    {
      "cell_type": "markdown",
      "source": [
        "## 2. Turn the custom ViT architecture we created into a Python script, for example, `vit.py`.\n",
        "\n",
        "* You should be able to import an entire ViT model using something like`from vit import ViT`.\n",
        "* We covered the art of turning code cells into Python scrips in [05. PyTorch Going Modular](https://www.learnpytorch.io/05_pytorch_going_modular/).\n"
      ],
      "metadata": {
        "id": "MBWnDZao9w_5"
      }
    },
    {
      "cell_type": "markdown",
      "source": [
        "Vou copiar todas as classes acima e suas bibliotecas necessárias para a célula abaixo e a transformar em um código Python importável"
      ],
      "metadata": {
        "id": "UCvwt5Ob5hxE"
      }
    },
    {
      "cell_type": "code",
      "source": [
        "%%writefile vit.py\n",
        "import torch\n",
        "from torch import nn\n",
        "\n",
        "class PatchEmbedding(nn.Module):\n",
        "  \"\"\"\n",
        "  Aplica uma convolução e depois um flatten\n",
        "  Precisa de imagens no formato (N, C, H, W)\n",
        "  N = batch size\n",
        "  C = channels\n",
        "  H = height\n",
        "  W = width\n",
        "\n",
        "  Retorna embeddings de shape (N, (H/patch_size) * (W/patch_size), n_dims)\n",
        "  O n_dims deve ser igual a C*patch_size*patch_size\n",
        "\n",
        "  Exemplo:\n",
        "  imgs shape: (32, 3, 224, 224)\n",
        "  patch_size = 16, n_channels=3, n_dims=768\n",
        "  Retorna: (32, (224/16)*(224/16)=196, 3*16*16=768)\n",
        "  \"\"\"\n",
        "  def __init__(self, patch_size:int=16, n_channels:int=3, n_dims:int=768):\n",
        "    super().__init__()\n",
        "\n",
        "    self.patch_size = patch_size\n",
        "    self.patcher = nn.Conv2d(in_channels=n_channels,\n",
        "                             out_channels=n_dims,\n",
        "                             kernel_size=patch_size,\n",
        "                             stride=patch_size, padding=0\n",
        "                             ) # (C_{out}, H_{out}, W_{out}) -> (n_dims, n_patches_H, n_patches_W)\n",
        "\n",
        "    self.flatten = nn.Flatten(start_dim=2, end_dim=3) # (n_dims, n_patches X n_patches)\n",
        "\n",
        "  def forward(self, x):\n",
        "    assert x.shape[-1] % self.patch_size == 0, f\"Dimensões da imagem devem ser divisíveis pelo patch_size {self.patch_size}\"\n",
        "\n",
        "    return self.flatten(self.patcher(x)).permute(0, 2, 1)\n",
        "\n",
        "class PreEmbedder(nn.Module):\n",
        "  \"\"\"\n",
        "  Realiza o PatchEmbedding. Depois, concatena mais um patch de n_dims\n",
        "  com o tensor de classe. Depois, soma o positional embedding aprendível\n",
        "  ao embedding final.\n",
        "  A dimensionalidade do embedding por patch será igual a\n",
        "  n_channels*(patch_size**2).\n",
        "  O número total de patches será (img_shape[0]/patch_size) * (img_shape[1]/patch_size)\n",
        "\n",
        "  Retorna um tensor de shape: (batch_size, n_patches+1, n_dims)\n",
        "  \"\"\"\n",
        "  def __init__(self, patch_size:int=16, n_channels:int=3,\n",
        "               batch_size:int=1, img_shape:tuple=(224, 224)):\n",
        "    super().__init__()\n",
        "    n_dims = n_channels*(patch_size**2)\n",
        "    self.patch_embedder = PatchEmbedding(patch_size, n_channels, n_dims)\n",
        "\n",
        "    n_patches = int((img_shape[0]/patch_size) * (img_shape[1]/patch_size))\n",
        "    self.class_token = nn.Parameter(\n",
        "        torch.randn((batch_size, 1, n_dims)),\n",
        "                                        requires_grad = True)\n",
        "    self.pos_embeddings = nn.Parameter(\n",
        "        torch.randn((batch_size, n_patches+1, n_dims)),\n",
        "    requires_grad=True)\n",
        "\n",
        "  def forward(self, x):\n",
        "    x = self.patch_embedder(x)\n",
        "    x = torch.concat((self.class_token, x), dim=1)\n",
        "    return x+self.pos_embeddings\n",
        "\n",
        "class TransformerEncoderStack(nn.Module):\n",
        "  def __init__(self, n_dims:int=768, nhead:int=12, mlp_dim:int=3072,\n",
        "               dropout:int=0.1, n_layers:int=12):\n",
        "    super().__init__()\n",
        "    # Uma camada das várias a serem stackadas\n",
        "    self.transformer_encoder_layer = nn.TransformerEncoderLayer(\n",
        "        d_model=n_dims,\n",
        "        nhead=nhead,\n",
        "        dim_feedforward=mlp_dim,\n",
        "        dropout=dropout,\n",
        "        activation=\"gelu\", # De acordo com o paper\n",
        "        batch_first=True, # De acordo com o paper\n",
        "        norm_first=True, # De acordo com o paper\n",
        "    )\n",
        "    self.transformer_encoder_stack = nn.TransformerEncoder(self.transformer_encoder_layer,\n",
        "                                                           num_layers=n_layers,\n",
        "                                                           enable_nested_tensor=False # Para remover um warning\n",
        "                                                           )\n",
        "\n",
        "  def forward(self, x):\n",
        "    return self.transformer_encoder_stack(x)\n",
        "\n",
        "class ClassificationHead(nn.Module):\n",
        "  def __init__(self, in_feats:int=768, out_feats:int=3):\n",
        "    super().__init__()\n",
        "    self.classifier = nn.Sequential(\n",
        "        nn.LayerNorm(normalized_shape=in_feats),\n",
        "        nn.Linear(in_features=in_feats,\n",
        "                  out_features=out_feats)\n",
        "    )\n",
        "\n",
        "  def forward(self, x):\n",
        "    return self.classifier(x)\n",
        "\n",
        "class ViT(nn.Module):\n",
        "  def __init__(self, patch_size:int=16, n_channels:int=3,\n",
        "               batch_size:int=1, img_shape:tuple=(224, 224),\n",
        "               nhead:int=12, mlp_dim:int=3072,\n",
        "               dropout:int=0.1, n_layers:int=12,\n",
        "               out_feats:int=3):\n",
        "    super().__init__()\n",
        "    self.embedder = PreEmbedder(patch_size, n_channels,\n",
        "               batch_size, img_shape)\n",
        "\n",
        "    n_dims = n_channels*(patch_size**2)\n",
        "    self.encoder_stack = TransformerEncoderStack(n_dims, nhead, mlp_dim,\n",
        "               dropout, n_layers)\n",
        "\n",
        "    self.classifier = ClassificationHead(n_dims, out_feats)\n",
        "\n",
        "  def forward(self, x):\n",
        "    return self.classifier(self.encoder_stack(self.embedder(x))[:, 0])"
      ],
      "metadata": {
        "id": "NFXVZNCzVYgV",
        "colab": {
          "base_uri": "https://localhost:8080/"
        },
        "outputId": "242ddf6b-4faf-49b0-99e1-61a2997e12e0"
      },
      "execution_count": 21,
      "outputs": [
        {
          "output_type": "stream",
          "name": "stdout",
          "text": [
            "Writing vit.py\n"
          ]
        }
      ]
    },
    {
      "cell_type": "markdown",
      "source": [
        "## 3. Train a pretrained ViT feature extractor model (like the one we made in [08. PyTorch Paper Replicating section 10](https://www.learnpytorch.io/08_pytorch_paper_replicating/#10-bring-in-pretrained-vit-from-torchvisionmodels-on-same-dataset)) on 20% of the pizza, steak and sushi data like the dataset we used in [07. PyTorch Experiment Tracking section 7.3](https://www.learnpytorch.io/07_pytorch_experiment_tracking/#73-download-different-datasets)\n",
        "* See how it performs compared to the EffNetB2 model we compared it to in [08. PyTorch Paper Replicating section 10.6](https://www.learnpytorch.io/08_pytorch_paper_replicating/#106-save-feature-extractor-vit-model-and-check-file-size)."
      ],
      "metadata": {
        "id": "aTKbje-e9118"
      }
    },
    {
      "cell_type": "markdown",
      "source": [
        "Fazendo o download dos dados"
      ],
      "metadata": {
        "id": "fQ5sQHv9fC3i"
      }
    },
    {
      "cell_type": "code",
      "source": [
        "data_20_percent_path = download_data(source=\"https://github.com/mrdbourke/pytorch-deep-learning/raw/main/data/pizza_steak_sushi_20_percent.zip\",\n",
        "                                     destination=\"pizza_steak_sushi_20_percent\")"
      ],
      "metadata": {
        "colab": {
          "base_uri": "https://localhost:8080/"
        },
        "id": "EC0pLws2fF0r",
        "outputId": "8873c430-b013-4fb4-e7bd-d13f5b83ae9f"
      },
      "execution_count": 22,
      "outputs": [
        {
          "output_type": "stream",
          "name": "stdout",
          "text": [
            "[INFO] Did not find data/pizza_steak_sushi_20_percent directory, creating one...\n",
            "[INFO] Downloading pizza_steak_sushi_20_percent.zip from https://github.com/mrdbourke/pytorch-deep-learning/raw/main/data/pizza_steak_sushi_20_percent.zip...\n",
            "[INFO] Unzipping pizza_steak_sushi_20_percent.zip data...\n"
          ]
        }
      ]
    },
    {
      "cell_type": "code",
      "source": [
        "train_dir_20_percent = data_20_percent_path / \"train\"\n",
        "\n",
        "print(f\"Pasta de treinamento 20%: {train_dir_20_percent}\")"
      ],
      "metadata": {
        "colab": {
          "base_uri": "https://localhost:8080/"
        },
        "id": "XkrLMrLXfRHD",
        "outputId": "1e112f97-bb24-4f4b-8ad7-e9c5177be1b6"
      },
      "execution_count": 23,
      "outputs": [
        {
          "output_type": "stream",
          "name": "stdout",
          "text": [
            "Pasta de treinamento 20%: data/pizza_steak_sushi_20_percent/train\n"
          ]
        }
      ]
    },
    {
      "cell_type": "markdown",
      "source": [
        "Conseguindo um modelo pré-treinado e o alterando para treinar nos nossos dados"
      ],
      "metadata": {
        "id": "N1WNrMe2f5mp"
      }
    },
    {
      "cell_type": "code",
      "source": [
        "pretrained_vit_weights = torchvision.models.ViT_B_16_Weights.DEFAULT\n",
        "\n",
        "pretrained_vit = torchvision.models.vit_b_16(weights=pretrained_vit_weights).to(device)\n",
        "\n",
        "for parameter in pretrained_vit.parameters():\n",
        "    parameter.requires_grad = False\n",
        "\n",
        "set_seeds()\n",
        "pretrained_vit.heads = nn.Linear(in_features=768, out_features=len(class_names)).to(device)\n",
        "pretrained_vit"
      ],
      "metadata": {
        "colab": {
          "base_uri": "https://localhost:8080/"
        },
        "id": "IOebJYXXf9SO",
        "outputId": "82f56069-65ad-4fea-ee28-4e8dae6d1ccf"
      },
      "execution_count": 24,
      "outputs": [
        {
          "output_type": "stream",
          "name": "stderr",
          "text": [
            "Downloading: \"https://download.pytorch.org/models/vit_b_16-c867db91.pth\" to /root/.cache/torch/hub/checkpoints/vit_b_16-c867db91.pth\n",
            "100%|██████████| 330M/330M [00:05<00:00, 66.1MB/s]\n"
          ]
        },
        {
          "output_type": "execute_result",
          "data": {
            "text/plain": [
              "VisionTransformer(\n",
              "  (conv_proj): Conv2d(3, 768, kernel_size=(16, 16), stride=(16, 16))\n",
              "  (encoder): Encoder(\n",
              "    (dropout): Dropout(p=0.0, inplace=False)\n",
              "    (layers): Sequential(\n",
              "      (encoder_layer_0): EncoderBlock(\n",
              "        (ln_1): LayerNorm((768,), eps=1e-06, elementwise_affine=True)\n",
              "        (self_attention): MultiheadAttention(\n",
              "          (out_proj): NonDynamicallyQuantizableLinear(in_features=768, out_features=768, bias=True)\n",
              "        )\n",
              "        (dropout): Dropout(p=0.0, inplace=False)\n",
              "        (ln_2): LayerNorm((768,), eps=1e-06, elementwise_affine=True)\n",
              "        (mlp): MLPBlock(\n",
              "          (0): Linear(in_features=768, out_features=3072, bias=True)\n",
              "          (1): GELU(approximate='none')\n",
              "          (2): Dropout(p=0.0, inplace=False)\n",
              "          (3): Linear(in_features=3072, out_features=768, bias=True)\n",
              "          (4): Dropout(p=0.0, inplace=False)\n",
              "        )\n",
              "      )\n",
              "      (encoder_layer_1): EncoderBlock(\n",
              "        (ln_1): LayerNorm((768,), eps=1e-06, elementwise_affine=True)\n",
              "        (self_attention): MultiheadAttention(\n",
              "          (out_proj): NonDynamicallyQuantizableLinear(in_features=768, out_features=768, bias=True)\n",
              "        )\n",
              "        (dropout): Dropout(p=0.0, inplace=False)\n",
              "        (ln_2): LayerNorm((768,), eps=1e-06, elementwise_affine=True)\n",
              "        (mlp): MLPBlock(\n",
              "          (0): Linear(in_features=768, out_features=3072, bias=True)\n",
              "          (1): GELU(approximate='none')\n",
              "          (2): Dropout(p=0.0, inplace=False)\n",
              "          (3): Linear(in_features=3072, out_features=768, bias=True)\n",
              "          (4): Dropout(p=0.0, inplace=False)\n",
              "        )\n",
              "      )\n",
              "      (encoder_layer_2): EncoderBlock(\n",
              "        (ln_1): LayerNorm((768,), eps=1e-06, elementwise_affine=True)\n",
              "        (self_attention): MultiheadAttention(\n",
              "          (out_proj): NonDynamicallyQuantizableLinear(in_features=768, out_features=768, bias=True)\n",
              "        )\n",
              "        (dropout): Dropout(p=0.0, inplace=False)\n",
              "        (ln_2): LayerNorm((768,), eps=1e-06, elementwise_affine=True)\n",
              "        (mlp): MLPBlock(\n",
              "          (0): Linear(in_features=768, out_features=3072, bias=True)\n",
              "          (1): GELU(approximate='none')\n",
              "          (2): Dropout(p=0.0, inplace=False)\n",
              "          (3): Linear(in_features=3072, out_features=768, bias=True)\n",
              "          (4): Dropout(p=0.0, inplace=False)\n",
              "        )\n",
              "      )\n",
              "      (encoder_layer_3): EncoderBlock(\n",
              "        (ln_1): LayerNorm((768,), eps=1e-06, elementwise_affine=True)\n",
              "        (self_attention): MultiheadAttention(\n",
              "          (out_proj): NonDynamicallyQuantizableLinear(in_features=768, out_features=768, bias=True)\n",
              "        )\n",
              "        (dropout): Dropout(p=0.0, inplace=False)\n",
              "        (ln_2): LayerNorm((768,), eps=1e-06, elementwise_affine=True)\n",
              "        (mlp): MLPBlock(\n",
              "          (0): Linear(in_features=768, out_features=3072, bias=True)\n",
              "          (1): GELU(approximate='none')\n",
              "          (2): Dropout(p=0.0, inplace=False)\n",
              "          (3): Linear(in_features=3072, out_features=768, bias=True)\n",
              "          (4): Dropout(p=0.0, inplace=False)\n",
              "        )\n",
              "      )\n",
              "      (encoder_layer_4): EncoderBlock(\n",
              "        (ln_1): LayerNorm((768,), eps=1e-06, elementwise_affine=True)\n",
              "        (self_attention): MultiheadAttention(\n",
              "          (out_proj): NonDynamicallyQuantizableLinear(in_features=768, out_features=768, bias=True)\n",
              "        )\n",
              "        (dropout): Dropout(p=0.0, inplace=False)\n",
              "        (ln_2): LayerNorm((768,), eps=1e-06, elementwise_affine=True)\n",
              "        (mlp): MLPBlock(\n",
              "          (0): Linear(in_features=768, out_features=3072, bias=True)\n",
              "          (1): GELU(approximate='none')\n",
              "          (2): Dropout(p=0.0, inplace=False)\n",
              "          (3): Linear(in_features=3072, out_features=768, bias=True)\n",
              "          (4): Dropout(p=0.0, inplace=False)\n",
              "        )\n",
              "      )\n",
              "      (encoder_layer_5): EncoderBlock(\n",
              "        (ln_1): LayerNorm((768,), eps=1e-06, elementwise_affine=True)\n",
              "        (self_attention): MultiheadAttention(\n",
              "          (out_proj): NonDynamicallyQuantizableLinear(in_features=768, out_features=768, bias=True)\n",
              "        )\n",
              "        (dropout): Dropout(p=0.0, inplace=False)\n",
              "        (ln_2): LayerNorm((768,), eps=1e-06, elementwise_affine=True)\n",
              "        (mlp): MLPBlock(\n",
              "          (0): Linear(in_features=768, out_features=3072, bias=True)\n",
              "          (1): GELU(approximate='none')\n",
              "          (2): Dropout(p=0.0, inplace=False)\n",
              "          (3): Linear(in_features=3072, out_features=768, bias=True)\n",
              "          (4): Dropout(p=0.0, inplace=False)\n",
              "        )\n",
              "      )\n",
              "      (encoder_layer_6): EncoderBlock(\n",
              "        (ln_1): LayerNorm((768,), eps=1e-06, elementwise_affine=True)\n",
              "        (self_attention): MultiheadAttention(\n",
              "          (out_proj): NonDynamicallyQuantizableLinear(in_features=768, out_features=768, bias=True)\n",
              "        )\n",
              "        (dropout): Dropout(p=0.0, inplace=False)\n",
              "        (ln_2): LayerNorm((768,), eps=1e-06, elementwise_affine=True)\n",
              "        (mlp): MLPBlock(\n",
              "          (0): Linear(in_features=768, out_features=3072, bias=True)\n",
              "          (1): GELU(approximate='none')\n",
              "          (2): Dropout(p=0.0, inplace=False)\n",
              "          (3): Linear(in_features=3072, out_features=768, bias=True)\n",
              "          (4): Dropout(p=0.0, inplace=False)\n",
              "        )\n",
              "      )\n",
              "      (encoder_layer_7): EncoderBlock(\n",
              "        (ln_1): LayerNorm((768,), eps=1e-06, elementwise_affine=True)\n",
              "        (self_attention): MultiheadAttention(\n",
              "          (out_proj): NonDynamicallyQuantizableLinear(in_features=768, out_features=768, bias=True)\n",
              "        )\n",
              "        (dropout): Dropout(p=0.0, inplace=False)\n",
              "        (ln_2): LayerNorm((768,), eps=1e-06, elementwise_affine=True)\n",
              "        (mlp): MLPBlock(\n",
              "          (0): Linear(in_features=768, out_features=3072, bias=True)\n",
              "          (1): GELU(approximate='none')\n",
              "          (2): Dropout(p=0.0, inplace=False)\n",
              "          (3): Linear(in_features=3072, out_features=768, bias=True)\n",
              "          (4): Dropout(p=0.0, inplace=False)\n",
              "        )\n",
              "      )\n",
              "      (encoder_layer_8): EncoderBlock(\n",
              "        (ln_1): LayerNorm((768,), eps=1e-06, elementwise_affine=True)\n",
              "        (self_attention): MultiheadAttention(\n",
              "          (out_proj): NonDynamicallyQuantizableLinear(in_features=768, out_features=768, bias=True)\n",
              "        )\n",
              "        (dropout): Dropout(p=0.0, inplace=False)\n",
              "        (ln_2): LayerNorm((768,), eps=1e-06, elementwise_affine=True)\n",
              "        (mlp): MLPBlock(\n",
              "          (0): Linear(in_features=768, out_features=3072, bias=True)\n",
              "          (1): GELU(approximate='none')\n",
              "          (2): Dropout(p=0.0, inplace=False)\n",
              "          (3): Linear(in_features=3072, out_features=768, bias=True)\n",
              "          (4): Dropout(p=0.0, inplace=False)\n",
              "        )\n",
              "      )\n",
              "      (encoder_layer_9): EncoderBlock(\n",
              "        (ln_1): LayerNorm((768,), eps=1e-06, elementwise_affine=True)\n",
              "        (self_attention): MultiheadAttention(\n",
              "          (out_proj): NonDynamicallyQuantizableLinear(in_features=768, out_features=768, bias=True)\n",
              "        )\n",
              "        (dropout): Dropout(p=0.0, inplace=False)\n",
              "        (ln_2): LayerNorm((768,), eps=1e-06, elementwise_affine=True)\n",
              "        (mlp): MLPBlock(\n",
              "          (0): Linear(in_features=768, out_features=3072, bias=True)\n",
              "          (1): GELU(approximate='none')\n",
              "          (2): Dropout(p=0.0, inplace=False)\n",
              "          (3): Linear(in_features=3072, out_features=768, bias=True)\n",
              "          (4): Dropout(p=0.0, inplace=False)\n",
              "        )\n",
              "      )\n",
              "      (encoder_layer_10): EncoderBlock(\n",
              "        (ln_1): LayerNorm((768,), eps=1e-06, elementwise_affine=True)\n",
              "        (self_attention): MultiheadAttention(\n",
              "          (out_proj): NonDynamicallyQuantizableLinear(in_features=768, out_features=768, bias=True)\n",
              "        )\n",
              "        (dropout): Dropout(p=0.0, inplace=False)\n",
              "        (ln_2): LayerNorm((768,), eps=1e-06, elementwise_affine=True)\n",
              "        (mlp): MLPBlock(\n",
              "          (0): Linear(in_features=768, out_features=3072, bias=True)\n",
              "          (1): GELU(approximate='none')\n",
              "          (2): Dropout(p=0.0, inplace=False)\n",
              "          (3): Linear(in_features=3072, out_features=768, bias=True)\n",
              "          (4): Dropout(p=0.0, inplace=False)\n",
              "        )\n",
              "      )\n",
              "      (encoder_layer_11): EncoderBlock(\n",
              "        (ln_1): LayerNorm((768,), eps=1e-06, elementwise_affine=True)\n",
              "        (self_attention): MultiheadAttention(\n",
              "          (out_proj): NonDynamicallyQuantizableLinear(in_features=768, out_features=768, bias=True)\n",
              "        )\n",
              "        (dropout): Dropout(p=0.0, inplace=False)\n",
              "        (ln_2): LayerNorm((768,), eps=1e-06, elementwise_affine=True)\n",
              "        (mlp): MLPBlock(\n",
              "          (0): Linear(in_features=768, out_features=3072, bias=True)\n",
              "          (1): GELU(approximate='none')\n",
              "          (2): Dropout(p=0.0, inplace=False)\n",
              "          (3): Linear(in_features=3072, out_features=768, bias=True)\n",
              "          (4): Dropout(p=0.0, inplace=False)\n",
              "        )\n",
              "      )\n",
              "    )\n",
              "    (ln): LayerNorm((768,), eps=1e-06, elementwise_affine=True)\n",
              "  )\n",
              "  (heads): Linear(in_features=768, out_features=3, bias=True)\n",
              ")"
            ]
          },
          "metadata": {},
          "execution_count": 24
        }
      ]
    },
    {
      "cell_type": "markdown",
      "source": [
        "Conseguindo os transforms do modelo"
      ],
      "metadata": {
        "id": "AWjCW-HvgVic"
      }
    },
    {
      "cell_type": "code",
      "source": [
        "pretrained_vit_transforms = pretrained_vit_weights.transforms()\n",
        "print(pretrained_vit_transforms)"
      ],
      "metadata": {
        "colab": {
          "base_uri": "https://localhost:8080/"
        },
        "id": "uyw7HEypgYOC",
        "outputId": "0a190a83-8e41-4d7a-fcd4-2b64a1c9cd79"
      },
      "execution_count": 25,
      "outputs": [
        {
          "output_type": "stream",
          "name": "stdout",
          "text": [
            "ImageClassification(\n",
            "    crop_size=[224]\n",
            "    resize_size=[256]\n",
            "    mean=[0.485, 0.456, 0.406]\n",
            "    std=[0.229, 0.224, 0.225]\n",
            "    interpolation=InterpolationMode.BILINEAR\n",
            ")\n"
          ]
        }
      ]
    },
    {
      "cell_type": "markdown",
      "source": [
        "Criando os dataloaders"
      ],
      "metadata": {
        "id": "ifc_6Q_Rgefj"
      }
    },
    {
      "cell_type": "code",
      "source": [
        "# Setup dataloaders\n",
        "train_dataloader_pretrained, test_dataloader_pretrained, class_names = data_setup.create_dataloaders(\n",
        "    train_dir=train_dir,\n",
        "    test_dir=test_dir,\n",
        "    transform=pretrained_vit_transforms,\n",
        "    batch_size=32)"
      ],
      "metadata": {
        "id": "C1WcC0GQgf-z"
      },
      "execution_count": 26,
      "outputs": []
    },
    {
      "cell_type": "markdown",
      "source": [
        "Treinando"
      ],
      "metadata": {
        "id": "61HHtHghgwHB"
      }
    },
    {
      "cell_type": "code",
      "source": [
        "from going_modular.going_modular import engine\n",
        "\n",
        "# Create optimizer and loss function\n",
        "optimizer = torch.optim.Adam(params=pretrained_vit.parameters(),\n",
        "                             lr=1e-3)\n",
        "loss_fn = torch.nn.CrossEntropyLoss()\n",
        "\n",
        "# Train the classifier head of the pretrained ViT feature extractor model\n",
        "set_seeds()\n",
        "pretrained_vit_results = engine.train(model=pretrained_vit,\n",
        "                                      train_dataloader=train_dataloader_pretrained,\n",
        "                                      test_dataloader=test_dataloader_pretrained,\n",
        "                                      optimizer=optimizer,\n",
        "                                      loss_fn=loss_fn,\n",
        "                                      epochs=10,\n",
        "                                      device=device)"
      ],
      "metadata": {
        "colab": {
          "base_uri": "https://localhost:8080/",
          "height": 223,
          "referenced_widgets": [
            "c6b2a3288001497fa497d45911d6af0b",
            "7da951e890cb45ce8ff92cf8954e0de3",
            "43c5b7bc549a440496865a0455e378d2",
            "92e5b2e24e1b49d3bb84ed54e7b9ba1c",
            "b6cfd98dfc7e40959ba779c242d0e7dc",
            "f62013a0d76c4a5ba8d27cf6b05642b7",
            "e83ef71cda2b4781a00d59d8c5fdb52a",
            "d975840b02e648c79cf000884da712a6",
            "240aa2d8e69644c6b81dccc698514e84",
            "a2994faa7d654361a2ad5bbbda704b1e",
            "ae2dc010edff4f5c92e5de82d4519bdd"
          ]
        },
        "id": "vVWDAevCgxT3",
        "outputId": "e645d4e1-f33b-4b0f-ebc1-ac9064b98955"
      },
      "execution_count": 27,
      "outputs": [
        {
          "output_type": "display_data",
          "data": {
            "text/plain": [
              "  0%|          | 0/10 [00:00<?, ?it/s]"
            ],
            "application/vnd.jupyter.widget-view+json": {
              "version_major": 2,
              "version_minor": 0,
              "model_id": "c6b2a3288001497fa497d45911d6af0b"
            }
          },
          "metadata": {}
        },
        {
          "output_type": "stream",
          "name": "stdout",
          "text": [
            "Epoch: 1 | train_loss: 0.7663 | train_acc: 0.7188 | test_loss: 0.5435 | test_acc: 0.8769\n",
            "Epoch: 2 | train_loss: 0.3436 | train_acc: 0.9453 | test_loss: 0.3257 | test_acc: 0.8977\n",
            "Epoch: 3 | train_loss: 0.2068 | train_acc: 0.9492 | test_loss: 0.2698 | test_acc: 0.9186\n",
            "Epoch: 4 | train_loss: 0.1557 | train_acc: 0.9609 | test_loss: 0.2414 | test_acc: 0.9186\n",
            "Epoch: 5 | train_loss: 0.1244 | train_acc: 0.9727 | test_loss: 0.2271 | test_acc: 0.8977\n",
            "Epoch: 6 | train_loss: 0.1210 | train_acc: 0.9766 | test_loss: 0.2122 | test_acc: 0.9280\n",
            "Epoch: 7 | train_loss: 0.0933 | train_acc: 0.9766 | test_loss: 0.2342 | test_acc: 0.8883\n",
            "Epoch: 8 | train_loss: 0.0793 | train_acc: 0.9844 | test_loss: 0.2268 | test_acc: 0.9081\n",
            "Epoch: 9 | train_loss: 0.1084 | train_acc: 0.9883 | test_loss: 0.2064 | test_acc: 0.9384\n",
            "Epoch: 10 | train_loss: 0.0646 | train_acc: 0.9922 | test_loss: 0.1795 | test_acc: 0.9176\n"
          ]
        }
      ]
    },
    {
      "cell_type": "code",
      "source": [
        "plot_loss_curves(pretrained_vit_results)"
      ],
      "metadata": {
        "colab": {
          "base_uri": "https://localhost:8080/",
          "height": 641
        },
        "id": "4BiTNpHLg7t5",
        "outputId": "707e3226-ea24-4048-bbda-39923da4f0cc"
      },
      "execution_count": 28,
      "outputs": [
        {
          "output_type": "display_data",
          "data": {
            "text/plain": [
              "<Figure size 1500x700 with 2 Axes>"
            ],
            "image/png": "[encoded data removed]"
          },
          "metadata": {}
        }
      ]
    },
    {
      "cell_type": "code",
      "source": [
        "from going_modular.going_modular import utils\n",
        "utils.save_model(model=pretrained_vit,\n",
        "                 target_dir=\"models\",\n",
        "                 model_name=\"pretrained_vit_feature_extractor_pizza_steak_sushi.pth\")"
      ],
      "metadata": {
        "colab": {
          "base_uri": "https://localhost:8080/"
        },
        "id": "iV4_FXCRhefp",
        "outputId": "0d8155b4-3ebc-4f4f-a945-ca50012156c5"
      },
      "execution_count": 29,
      "outputs": [
        {
          "output_type": "stream",
          "name": "stdout",
          "text": [
            "[INFO] Saving model to: models/pretrained_vit_feature_extractor_pizza_steak_sushi.pth\n"
          ]
        }
      ]
    },
    {
      "cell_type": "code",
      "source": [
        "from pathlib import Path\n",
        "\n",
        "pretrained_vit_model_size = Path(\"models/pretrained_vit_feature_extractor_pizza_steak_sushi.pth\").stat().st_size // (1024*1024)\n",
        "print(f\"Pretrained ViT model size: {pretrained_vit_model_size} MB\")"
      ],
      "metadata": {
        "colab": {
          "base_uri": "https://localhost:8080/"
        },
        "id": "svngwzdEhkz3",
        "outputId": "ce13b45f-bd24-4ca7-efc1-649ef5831a85"
      },
      "execution_count": 30,
      "outputs": [
        {
          "output_type": "stream",
          "name": "stdout",
          "text": [
            "Pretrained ViT model size: 327 MB\n"
          ]
        }
      ]
    },
    {
      "cell_type": "markdown",
      "source": [
        "Esse modelo, comparado com o EffNetB2 treinado na aula, atingiu menor loss e acurácia semelhante. Entretanto, ele possui 327MB de tamanho comparado com os 29MB do EffNetB2. Dessa forma, dependendo de qual o dispositivo que esse modelo estaria localizado, poderíamos ter que escolher o EffNetB2."
      ],
      "metadata": {
        "id": "4_1sGpfxhM_-"
      }
    },
    {
      "cell_type": "markdown",
      "source": [
        "## 4. Try repeating the steps from excercise 3 but this time use the \"`ViT_B_16_Weights.IMAGENET1K_SWAG_E2E_V1`\" pretrained weights from [`torchvision.models.vit_b_16()`](https://pytorch.org/vision/stable/models/generated/torchvision.models.vit_b_16.html#torchvision.models.vit_b_16).\n",
        "* Note: ViT pretrained with SWAG weights has a minimum input image size of (384, 384), though this is accessible in the weights `.transforms()` method."
      ],
      "metadata": {
        "id": "LH-vHr3m9_oH"
      }
    },
    {
      "cell_type": "code",
      "source": [
        "# TODO: your code\n",
        "pretrained_vit_weights = torchvision.models.ViT_B_16_Weights.IMAGENET1K_SWAG_E2E_V1\n",
        "\n",
        "pretrained_vit = torchvision.models.vit_b_16(weights=pretrained_vit_weights).to(device)\n",
        "\n",
        "for parameter in pretrained_vit.parameters():\n",
        "    parameter.requires_grad = False\n",
        "\n",
        "set_seeds()\n",
        "pretrained_vit.heads = nn.Linear(in_features=768, out_features=len(class_names)).to(device)\n",
        "pretrained_vit"
      ],
      "metadata": {
        "id": "dWxceTz3VmeB",
        "colab": {
          "base_uri": "https://localhost:8080/"
        },
        "outputId": "cbac74ee-7765-4e39-e110-a3976512c8cd"
      },
      "execution_count": 31,
      "outputs": [
        {
          "output_type": "stream",
          "name": "stderr",
          "text": [
            "Downloading: \"https://download.pytorch.org/models/vit_b_16_swag-9ac1b537.pth\" to /root/.cache/torch/hub/checkpoints/vit_b_16_swag-9ac1b537.pth\n",
            "100%|██████████| 331M/331M [00:04<00:00, 81.9MB/s]\n"
          ]
        },
        {
          "output_type": "execute_result",
          "data": {
            "text/plain": [
              "VisionTransformer(\n",
              "  (conv_proj): Conv2d(3, 768, kernel_size=(16, 16), stride=(16, 16))\n",
              "  (encoder): Encoder(\n",
              "    (dropout): Dropout(p=0.0, inplace=False)\n",
              "    (layers): Sequential(\n",
              "      (encoder_layer_0): EncoderBlock(\n",
              "        (ln_1): LayerNorm((768,), eps=1e-06, elementwise_affine=True)\n",
              "        (self_attention): MultiheadAttention(\n",
              "          (out_proj): NonDynamicallyQuantizableLinear(in_features=768, out_features=768, bias=True)\n",
              "        )\n",
              "        (dropout): Dropout(p=0.0, inplace=False)\n",
              "        (ln_2): LayerNorm((768,), eps=1e-06, elementwise_affine=True)\n",
              "        (mlp): MLPBlock(\n",
              "          (0): Linear(in_features=768, out_features=3072, bias=True)\n",
              "          (1): GELU(approximate='none')\n",
              "          (2): Dropout(p=0.0, inplace=False)\n",
              "          (3): Linear(in_features=3072, out_features=768, bias=True)\n",
              "          (4): Dropout(p=0.0, inplace=False)\n",
              "        )\n",
              "      )\n",
              "      (encoder_layer_1): EncoderBlock(\n",
              "        (ln_1): LayerNorm((768,), eps=1e-06, elementwise_affine=True)\n",
              "        (self_attention): MultiheadAttention(\n",
              "          (out_proj): NonDynamicallyQuantizableLinear(in_features=768, out_features=768, bias=True)\n",
              "        )\n",
              "        (dropout): Dropout(p=0.0, inplace=False)\n",
              "        (ln_2): LayerNorm((768,), eps=1e-06, elementwise_affine=True)\n",
              "        (mlp): MLPBlock(\n",
              "          (0): Linear(in_features=768, out_features=3072, bias=True)\n",
              "          (1): GELU(approximate='none')\n",
              "          (2): Dropout(p=0.0, inplace=False)\n",
              "          (3): Linear(in_features=3072, out_features=768, bias=True)\n",
              "          (4): Dropout(p=0.0, inplace=False)\n",
              "        )\n",
              "      )\n",
              "      (encoder_layer_2): EncoderBlock(\n",
              "        (ln_1): LayerNorm((768,), eps=1e-06, elementwise_affine=True)\n",
              "        (self_attention): MultiheadAttention(\n",
              "          (out_proj): NonDynamicallyQuantizableLinear(in_features=768, out_features=768, bias=True)\n",
              "        )\n",
              "        (dropout): Dropout(p=0.0, inplace=False)\n",
              "        (ln_2): LayerNorm((768,), eps=1e-06, elementwise_affine=True)\n",
              "        (mlp): MLPBlock(\n",
              "          (0): Linear(in_features=768, out_features=3072, bias=True)\n",
              "          (1): GELU(approximate='none')\n",
              "          (2): Dropout(p=0.0, inplace=False)\n",
              "          (3): Linear(in_features=3072, out_features=768, bias=True)\n",
              "          (4): Dropout(p=0.0, inplace=False)\n",
              "        )\n",
              "      )\n",
              "      (encoder_layer_3): EncoderBlock(\n",
              "        (ln_1): LayerNorm((768,), eps=1e-06, elementwise_affine=True)\n",
              "        (self_attention): MultiheadAttention(\n",
              "          (out_proj): NonDynamicallyQuantizableLinear(in_features=768, out_features=768, bias=True)\n",
              "        )\n",
              "        (dropout): Dropout(p=0.0, inplace=False)\n",
              "        (ln_2): LayerNorm((768,), eps=1e-06, elementwise_affine=True)\n",
              "        (mlp): MLPBlock(\n",
              "          (0): Linear(in_features=768, out_features=3072, bias=True)\n",
              "          (1): GELU(approximate='none')\n",
              "          (2): Dropout(p=0.0, inplace=False)\n",
              "          (3): Linear(in_features=3072, out_features=768, bias=True)\n",
              "          (4): Dropout(p=0.0, inplace=False)\n",
              "        )\n",
              "      )\n",
              "      (encoder_layer_4): EncoderBlock(\n",
              "        (ln_1): LayerNorm((768,), eps=1e-06, elementwise_affine=True)\n",
              "        (self_attention): MultiheadAttention(\n",
              "          (out_proj): NonDynamicallyQuantizableLinear(in_features=768, out_features=768, bias=True)\n",
              "        )\n",
              "        (dropout): Dropout(p=0.0, inplace=False)\n",
              "        (ln_2): LayerNorm((768,), eps=1e-06, elementwise_affine=True)\n",
              "        (mlp): MLPBlock(\n",
              "          (0): Linear(in_features=768, out_features=3072, bias=True)\n",
              "          (1): GELU(approximate='none')\n",
              "          (2): Dropout(p=0.0, inplace=False)\n",
              "          (3): Linear(in_features=3072, out_features=768, bias=True)\n",
              "          (4): Dropout(p=0.0, inplace=False)\n",
              "        )\n",
              "      )\n",
              "      (encoder_layer_5): EncoderBlock(\n",
              "        (ln_1): LayerNorm((768,), eps=1e-06, elementwise_affine=True)\n",
              "        (self_attention): MultiheadAttention(\n",
              "          (out_proj): NonDynamicallyQuantizableLinear(in_features=768, out_features=768, bias=True)\n",
              "        )\n",
              "        (dropout): Dropout(p=0.0, inplace=False)\n",
              "        (ln_2): LayerNorm((768,), eps=1e-06, elementwise_affine=True)\n",
              "        (mlp): MLPBlock(\n",
              "          (0): Linear(in_features=768, out_features=3072, bias=True)\n",
              "          (1): GELU(approximate='none')\n",
              "          (2): Dropout(p=0.0, inplace=False)\n",
              "          (3): Linear(in_features=3072, out_features=768, bias=True)\n",
              "          (4): Dropout(p=0.0, inplace=False)\n",
              "        )\n",
              "      )\n",
              "      (encoder_layer_6): EncoderBlock(\n",
              "        (ln_1): LayerNorm((768,), eps=1e-06, elementwise_affine=True)\n",
              "        (self_attention): MultiheadAttention(\n",
              "          (out_proj): NonDynamicallyQuantizableLinear(in_features=768, out_features=768, bias=True)\n",
              "        )\n",
              "        (dropout): Dropout(p=0.0, inplace=False)\n",
              "        (ln_2): LayerNorm((768,), eps=1e-06, elementwise_affine=True)\n",
              "        (mlp): MLPBlock(\n",
              "          (0): Linear(in_features=768, out_features=3072, bias=True)\n",
              "          (1): GELU(approximate='none')\n",
              "          (2): Dropout(p=0.0, inplace=False)\n",
              "          (3): Linear(in_features=3072, out_features=768, bias=True)\n",
              "          (4): Dropout(p=0.0, inplace=False)\n",
              "        )\n",
              "      )\n",
              "      (encoder_layer_7): EncoderBlock(\n",
              "        (ln_1): LayerNorm((768,), eps=1e-06, elementwise_affine=True)\n",
              "        (self_attention): MultiheadAttention(\n",
              "          (out_proj): NonDynamicallyQuantizableLinear(in_features=768, out_features=768, bias=True)\n",
              "        )\n",
              "        (dropout): Dropout(p=0.0, inplace=False)\n",
              "        (ln_2): LayerNorm((768,), eps=1e-06, elementwise_affine=True)\n",
              "        (mlp): MLPBlock(\n",
              "          (0): Linear(in_features=768, out_features=3072, bias=True)\n",
              "          (1): GELU(approximate='none')\n",
              "          (2): Dropout(p=0.0, inplace=False)\n",
              "          (3): Linear(in_features=3072, out_features=768, bias=True)\n",
              "          (4): Dropout(p=0.0, inplace=False)\n",
              "        )\n",
              "      )\n",
              "      (encoder_layer_8): EncoderBlock(\n",
              "        (ln_1): LayerNorm((768,), eps=1e-06, elementwise_affine=True)\n",
              "        (self_attention): MultiheadAttention(\n",
              "          (out_proj): NonDynamicallyQuantizableLinear(in_features=768, out_features=768, bias=True)\n",
              "        )\n",
              "        (dropout): Dropout(p=0.0, inplace=False)\n",
              "        (ln_2): LayerNorm((768,), eps=1e-06, elementwise_affine=True)\n",
              "        (mlp): MLPBlock(\n",
              "          (0): Linear(in_features=768, out_features=3072, bias=True)\n",
              "          (1): GELU(approximate='none')\n",
              "          (2): Dropout(p=0.0, inplace=False)\n",
              "          (3): Linear(in_features=3072, out_features=768, bias=True)\n",
              "          (4): Dropout(p=0.0, inplace=False)\n",
              "        )\n",
              "      )\n",
              "      (encoder_layer_9): EncoderBlock(\n",
              "        (ln_1): LayerNorm((768,), eps=1e-06, elementwise_affine=True)\n",
              "        (self_attention): MultiheadAttention(\n",
              "          (out_proj): NonDynamicallyQuantizableLinear(in_features=768, out_features=768, bias=True)\n",
              "        )\n",
              "        (dropout): Dropout(p=0.0, inplace=False)\n",
              "        (ln_2): LayerNorm((768,), eps=1e-06, elementwise_affine=True)\n",
              "        (mlp): MLPBlock(\n",
              "          (0): Linear(in_features=768, out_features=3072, bias=True)\n",
              "          (1): GELU(approximate='none')\n",
              "          (2): Dropout(p=0.0, inplace=False)\n",
              "          (3): Linear(in_features=3072, out_features=768, bias=True)\n",
              "          (4): Dropout(p=0.0, inplace=False)\n",
              "        )\n",
              "      )\n",
              "      (encoder_layer_10): EncoderBlock(\n",
              "        (ln_1): LayerNorm((768,), eps=1e-06, elementwise_affine=True)\n",
              "        (self_attention): MultiheadAttention(\n",
              "          (out_proj): NonDynamicallyQuantizableLinear(in_features=768, out_features=768, bias=True)\n",
              "        )\n",
              "        (dropout): Dropout(p=0.0, inplace=False)\n",
              "        (ln_2): LayerNorm((768,), eps=1e-06, elementwise_affine=True)\n",
              "        (mlp): MLPBlock(\n",
              "          (0): Linear(in_features=768, out_features=3072, bias=True)\n",
              "          (1): GELU(approximate='none')\n",
              "          (2): Dropout(p=0.0, inplace=False)\n",
              "          (3): Linear(in_features=3072, out_features=768, bias=True)\n",
              "          (4): Dropout(p=0.0, inplace=False)\n",
              "        )\n",
              "      )\n",
              "      (encoder_layer_11): EncoderBlock(\n",
              "        (ln_1): LayerNorm((768,), eps=1e-06, elementwise_affine=True)\n",
              "        (self_attention): MultiheadAttention(\n",
              "          (out_proj): NonDynamicallyQuantizableLinear(in_features=768, out_features=768, bias=True)\n",
              "        )\n",
              "        (dropout): Dropout(p=0.0, inplace=False)\n",
              "        (ln_2): LayerNorm((768,), eps=1e-06, elementwise_affine=True)\n",
              "        (mlp): MLPBlock(\n",
              "          (0): Linear(in_features=768, out_features=3072, bias=True)\n",
              "          (1): GELU(approximate='none')\n",
              "          (2): Dropout(p=0.0, inplace=False)\n",
              "          (3): Linear(in_features=3072, out_features=768, bias=True)\n",
              "          (4): Dropout(p=0.0, inplace=False)\n",
              "        )\n",
              "      )\n",
              "    )\n",
              "    (ln): LayerNorm((768,), eps=1e-06, elementwise_affine=True)\n",
              "  )\n",
              "  (heads): Linear(in_features=768, out_features=3, bias=True)\n",
              ")"
            ]
          },
          "metadata": {},
          "execution_count": 31
        }
      ]
    },
    {
      "cell_type": "code",
      "source": [
        "pretrained_vit_transforms = pretrained_vit_weights.transforms()\n",
        "print(pretrained_vit_transforms)"
      ],
      "metadata": {
        "colab": {
          "base_uri": "https://localhost:8080/"
        },
        "id": "GWcrDL9EiV0A",
        "outputId": "1e5aa0f9-d386-4c76-fe0e-5df150a97f98"
      },
      "execution_count": 32,
      "outputs": [
        {
          "output_type": "stream",
          "name": "stdout",
          "text": [
            "ImageClassification(\n",
            "    crop_size=[384]\n",
            "    resize_size=[384]\n",
            "    mean=[0.485, 0.456, 0.406]\n",
            "    std=[0.229, 0.224, 0.225]\n",
            "    interpolation=InterpolationMode.BICUBIC\n",
            ")\n"
          ]
        }
      ]
    },
    {
      "cell_type": "code",
      "source": [
        "train_dataloader_pretrained, test_dataloader_pretrained, class_names = data_setup.create_dataloaders(\n",
        "    train_dir=train_dir,\n",
        "    test_dir=test_dir,\n",
        "    transform=pretrained_vit_transforms,\n",
        "    batch_size=32)"
      ],
      "metadata": {
        "id": "T1IhwEwZibz3"
      },
      "execution_count": 33,
      "outputs": []
    },
    {
      "cell_type": "code",
      "source": [
        "from going_modular.going_modular import engine\n",
        "\n",
        "# Create optimizer and loss function\n",
        "optimizer = torch.optim.Adam(params=pretrained_vit.parameters(),\n",
        "                             lr=1e-3)\n",
        "loss_fn = torch.nn.CrossEntropyLoss()\n",
        "\n",
        "# Train the classifier head of the pretrained ViT feature extractor model\n",
        "set_seeds()\n",
        "pretrained_vit_results = engine.train(model=pretrained_vit,\n",
        "                                      train_dataloader=train_dataloader_pretrained,\n",
        "                                      test_dataloader=test_dataloader_pretrained,\n",
        "                                      optimizer=optimizer,\n",
        "                                      loss_fn=loss_fn,\n",
        "                                      epochs=10,\n",
        "                                      device=device)"
      ],
      "metadata": {
        "colab": {
          "base_uri": "https://localhost:8080/",
          "height": 223,
          "referenced_widgets": [
            "51c6bdbad7dc4dd8a535869b9fb89727",
            "7e9991a0f7e3464c95213131ae078506",
            "6723d9b0cfa6466dbe3a97fbf680409f",
            "bfcdf98c51e648e19f52adb9267350a3",
            "d317082c4a3d4bdc99536f0f7c892d91",
            "e1391b5969fd4295a7103690cce1f440",
            "942bfd3e71b0409f998bde79370d07e7",
            "0da5ed32029c46f19452c136f7aeb0aa",
            "61d40d25e90e43828d9cd3ae967bea0d",
            "c4d84af7932f4c6fa70aa77e133df0cd",
            "172c29f12e1b4f16a8a8b9d4653d64d1"
          ]
        },
        "id": "YeDTdhsZides",
        "outputId": "e4cbc021-982d-469a-eda4-5414623f6f19"
      },
      "execution_count": 34,
      "outputs": [
        {
          "output_type": "display_data",
          "data": {
            "text/plain": [
              "  0%|          | 0/10 [00:00<?, ?it/s]"
            ],
            "application/vnd.jupyter.widget-view+json": {
              "version_major": 2,
              "version_minor": 0,
              "model_id": "51c6bdbad7dc4dd8a535869b9fb89727"
            }
          },
          "metadata": {}
        },
        {
          "output_type": "stream",
          "name": "stdout",
          "text": [
            "Epoch: 1 | train_loss: 0.4188 | train_acc: 0.8672 | test_loss: 0.1259 | test_acc: 0.9792\n",
            "Epoch: 2 | train_loss: 0.0810 | train_acc: 0.9805 | test_loss: 0.0552 | test_acc: 0.9896\n",
            "Epoch: 3 | train_loss: 0.0478 | train_acc: 0.9883 | test_loss: 0.0461 | test_acc: 0.9896\n",
            "Epoch: 4 | train_loss: 0.0328 | train_acc: 0.9961 | test_loss: 0.0419 | test_acc: 0.9896\n",
            "Epoch: 5 | train_loss: 0.0244 | train_acc: 0.9961 | test_loss: 0.0413 | test_acc: 0.9896\n",
            "Epoch: 6 | train_loss: 0.0206 | train_acc: 0.9961 | test_loss: 0.0408 | test_acc: 0.9896\n",
            "Epoch: 7 | train_loss: 0.0140 | train_acc: 0.9961 | test_loss: 0.0418 | test_acc: 0.9896\n",
            "Epoch: 8 | train_loss: 0.0103 | train_acc: 1.0000 | test_loss: 0.0393 | test_acc: 0.9896\n",
            "Epoch: 9 | train_loss: 0.0086 | train_acc: 1.0000 | test_loss: 0.0366 | test_acc: 0.9896\n",
            "Epoch: 10 | train_loss: 0.0071 | train_acc: 1.0000 | test_loss: 0.0350 | test_acc: 0.9896\n"
          ]
        }
      ]
    },
    {
      "cell_type": "code",
      "source": [
        "plot_loss_curves(pretrained_vit_results)"
      ],
      "metadata": {
        "colab": {
          "base_uri": "https://localhost:8080/",
          "height": 641
        },
        "id": "tZIZugr5jJm6",
        "outputId": "8d739cd5-0b87-4e72-9d15-3cd7e90b4bcd"
      },
      "execution_count": 35,
      "outputs": [
        {
          "output_type": "display_data",
          "data": {
            "text/plain": [
              "<Figure size 1500x700 with 2 Axes>"
            ],
            "image/png": "[encoded data removed]"
          },
          "metadata": {}
        }
      ]
    },
    {
      "cell_type": "markdown",
      "source": [
        "Esse modelo conseguiu performar melhor ainda com 0.98 de acurácia em teste e um loss muito baixo. Entretanto, ele não deixa de ser um modelo mais pesado do que o EffNetB2."
      ],
      "metadata": {
        "id": "7hgwXAtPjMSI"
      }
    },
    {
      "cell_type": "markdown",
      "source": [
        "# 5. Our custom ViT model architecture closely mimics that of the ViT paper, however, our training recipe misses a few things.\n",
        "* Research some of the following topics from Table 3 in the ViT paper that we miss and write a sentence about each and how it might help with training:\n",
        "    * **ImageNet-21k pretraining**\n",
        "    * **Learning rate warmup**\n",
        "    * **Learning rate decay**\n",
        "    * **Gradient clipping**"
      ],
      "metadata": {
        "id": "ZLcCgRhS-OhV"
      }
    },
    {
      "cell_type": "markdown",
      "source": [
        "## ImageNet-21K pretraining\n",
        "\n",
        "De acordo com o paper [ImageNet-21K Pretraining for the Masses](https://arxiv.org/abs/2104.10972), o dataset ImageNet-21K, também conhecido simplesmente como ImageNet, possui mais de 14 milhões de imagens divididas em quase 22 mil classes (por isso também pode ser chamado de ImageNet-22K). Esse dataset inteiro, pelo menos até a divulgação desse paper, não era o principal dataset utilizado para realizar o pré-treinamento de modelos voltados para imagens. O principal modelo era um subconjunto do ImageNet-21K chamado ImageNet-1K. Isso se deve ao fato de que o ImageNet, apesar de público, é muito grande com 1.3TB de dados e possui classes não mutualmente exclusivas. Por exemplo, dentro do dataset existem as classes \"cadeira\" e \"móvel\". A maioria das vezes, uma foto que contém uma cadeira será da classe \"cadeira\" mas, em outros casos, ela será da classe \"móvel\".\n",
        "\n",
        "Esse paper apresenta um pré-processamento eficaz sobre o ImageNet-21K que permite modelos a melhorarem a sua performance em tarefas downstream. Provavelmente, isso deve ao fato de eles integrarem o uso da hierarquia existente entre as classes do dataset para realizar o treinamento em uma nova forma de avaliação que chamaram de *softmax semântico*."
      ],
      "metadata": {
        "id": "_RvUxBgnvm5u"
      }
    },
    {
      "cell_type": "markdown",
      "source": [
        "## Learning rate warmup\n",
        "\n",
        "De acordo com [essa pergunta no stackexchange](https://datascience.stackexchange.com/questions/55991/in-the-context-of-deep-learning-what-is-training-warmup-steps), [esse post no blog do baeldung](https://www.baeldung.com/cs/learning-rate-warm-up) e [essa pergunta no stackoverflow](https://stackoverflow.com/questions/55933867/what-does-learning-rate-warm-up-mean),  learning rate warmup é uma técnica de regularização utilizada para que os gradientes das primeiras iterações não levem o modelo em lugares longes do ótimo desnecessariamente. Dessa forma, precisamos de menos iterações para convergir.\n",
        "\n",
        "Ele tem dois tipos principais:\n",
        "- Linear: Usamos um learning rate menor fixo durante n épocas ou minibatches. Logo depois, passamos a usar o learning rate normal.\n",
        "- Gradual: Começamos com um learning rate baixo que aumenta constantemente durante n épocas ou minibatches até alcançar o learning rate normal.\n",
        "\n",
        "Uma vez que atingimos o learning rate normal, técnicas de learning rate decay ou scheduler podem ser aplicadas normalmente.\n",
        "\n",
        "Um exemplo de motivo de uso de learning rate warmup é em uma validação cruzada randomizada. Pode ser que peguemos um primeiro batch com muitos elementos da mesma classe e, portanto, o modelo seria levado a parâmetros otimizados visando essa classe em detrimento de outras. Entretanto, usar o learning rate warmup diminui esse problema.\n",
        "\n",
        "Parece ser um meta learning rate, já que o learning rate tem o objetivo de permitir o aprendizado em pequenos passos ajustáveis mas o warmup diminui o peso dos primeiros passos."
      ],
      "metadata": {
        "id": "3wzNuE9_0q2U"
      }
    },
    {
      "cell_type": "markdown",
      "source": [
        "## Learning Rate decay\n",
        "\n",
        "De acordo com o paper [How Does Learning Rate Decay Help Modern Neural Networks?](https://arxiv.org/abs/1908.01878), learning rate decay é uma técnica usada para treinar redes neurais modernas. Ela funciona por diminuir o  learning rate base ao longo das épocas. Existem vários jeitos de fazer isso. Podemos usar fórmulas estranhas ou o mais comum que é dividir o learning rate por uma constante a cada n épocas.\n",
        "\n",
        "Esse mesmo paper discute os motivos acreditados de trazer os benefícios de usar learning rate decay até o momento mas propõe uma nova explicação. Um dos motivos acreditados para se usar o learning rate decay sob o ponto de vista do Gradient Descent, ou seja, não existem minibatches, é o de que com um learning rate suficientemente baixo, a rede irá convergir rápido mas, com um learning rate suficientemente alto, a rede ficará rodeando o ótimo local/global, ou seja, divergindo. Assim, o papel do lrDecay seria evitar oscilação e convergir mais rápido. Entretanto, experimentos mostraram que independentemente de quando o lrDecay acontece, em redes neurais modernas, a diferença de performance é negligenciável.\n",
        "\n",
        "Outra explicação para o uso do lrDecay vem da visão do Gradiente Descendente Estocástico. A explicação é a de que usar lrDecay aumenta a probabilidade de o modelo chegar em um bom mínimo local, ou seja, com lrs maiores, o modelo é incapaz de chegar em regiões estreitas com mínimos melhores. Entretanto, o que isso significa é que o modelo sem/antes de usar lrDecay poderia chegar, de fato, no mesmo mínimo local do que depois de usar lrDecay o que implica performance semelhante. Entretanto, experimentos mostram que não é isso o que acontece e a performance pode melhorar consideravelmente usando lrDecay.\n",
        "\n",
        "Dessa forma, esse paper propõe uma nova explicação do ponto de vista da complexidade dos padrões aprendidos. Eles propõem que o efeito da queda da taxa de aprendizagem é melhorar a aprendizagem de padrões complexos, enquanto o efeito de uma taxa de aprendizagem inicialmente grande é evitar a memorização de dados ruidosos.\n",
        "\n",
        "Uma sugestão que eles dão é a de que, como a cada queda na taxa de aprendizagem visa aprender relações complexas no dataset de treino, mais o modelo se torna pior em transfer learning para outros datasets. Ou seja, quanto mais o modelo overfita sobre as complexidades do dataset de treino, pior ele se torna ao ser aplicado em outros datasets. Assim, salvar checkpoints do modelo antes de cada decay pode ser interessante para comparar a performance de transfer learning para outros datasets.\n",
        "\n",
        "\n",
        "\n"
      ],
      "metadata": {
        "id": "hnhI5PC6EE_6"
      }
    },
    {
      "cell_type": "markdown",
      "source": [
        "## Gradient clipping\n",
        "\n",
        "De acordo com [esse post no machinelearningmastery](https://machinelearningmastery.com/how-to-avoid-exploding-gradients-in-neural-networks-with-gradient-clipping/), [essa explicação do paperswithcode](https://paperswithcode.com/method/gradient-clipping) e [o glossário do deepai](https://deepai.org/machine-learning-glossary-and-terms/gradient-clipping), gradient clipping é uma forma de evitar o problema de explosão de gradientes comumente visto em redes recorrentes simples. Uma forma comum é, se a norma do vetor gradiente de alguma feature ultrapassar um valor pré-estabelecido, re-escalamos esse vetor para que a sua norma seja igual ao valor máximo. Dessa forma, evitamos que o modelo seja levado para possíveis áreas com maior loss. Isso ajuda em casos em que exista uma grande queda repentina na loss e o modelo seria levado muito a frente dessa parte. Assim, o gradiente leva o erro para mais próximo do lugar da queda.\n",
        "\n"
      ],
      "metadata": {
        "id": "qjR0_YQaPQ6V"
      }
    }
  ]
}