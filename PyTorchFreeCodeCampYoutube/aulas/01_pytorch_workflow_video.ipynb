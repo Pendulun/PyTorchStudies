{
  "nbformat": 4,
  "nbformat_minor": 0,
  "metadata": {
    "colab": {
      "provenance": [],
      "toc_visible": true
    },
    "kernelspec": {
      "name": "python3",
      "display_name": "Python 3"
    },
    "language_info": {
      "name": "python"
    },
    "accelerator": "GPU",
    "gpuClass": "standard"
  },
  "cells": [
    {
      "cell_type": "markdown",
      "source": [
        "# PyTorch Workflow\n",
        "\n",
        "Vamos explorar um workflow de uso do PyTorch do início ao fim\n",
        "\n",
        "Recurso\n",
        "1. Versão em e-book: https://www.learnpytorch.io/01_pytorch_workflow/"
      ],
      "metadata": {
        "id": "FFQJckCGkw7C"
      }
    },
    {
      "cell_type": "code",
      "source": [
        "import torch\n",
        "from torch import nn ## nn contém tudo sobre redes neurais\n",
        "import matplotlib.pyplot as plt\n",
        "\n",
        "torch.__version__"
      ],
      "metadata": {
        "colab": {
          "base_uri": "https://localhost:8080/",
          "height": 35
        },
        "id": "TO1PPDqulEvM",
        "outputId": "040851d6-fb3e-40d4-8273-8fba082ee391"
      },
      "execution_count": 1,
      "outputs": [
        {
          "output_type": "execute_result",
          "data": {
            "text/plain": [
              "'1.13.0+cu116'"
            ],
            "application/vnd.google.colaboratory.intrinsic+json": {
              "type": "string"
            }
          },
          "metadata": {},
          "execution_count": 1
        }
      ]
    },
    {
      "cell_type": "markdown",
      "source": [
        "## 1. Dados (preparando e carregando)\n",
        "\n",
        "Dados podem ser qualquer coisa em ML\n",
        "\n",
        "* Planilha Excel\n",
        "* Imagens\n",
        "* Videos\n",
        "* Audio\n",
        "* DNA\n",
        "* Texto\n",
        "\n",
        "ML é um jogo de duas partes:\n",
        "1. Conseguir uma representação numérica dos dados\n",
        "2. Construir um modelo para aprender os padrões dessa representação numérica\n",
        "\n",
        "Vamos criar um conjunto de dados de acordo com a fórmula de regressão linear e **parâmetros** conhecidos."
      ],
      "metadata": {
        "id": "u6Nvo0S1mecU"
      }
    },
    {
      "cell_type": "code",
      "source": [
        "# Criando parâmetros\n",
        "weight = 0.7\n",
        "bias = 0.3\n",
        "\n",
        "start = 0\n",
        "end = 1\n",
        "step = 0.02\n",
        "X = torch.arange(start, end, step).unsqueeze(dim=1)\n",
        "y = weight * X + bias\n",
        "\n",
        "X[:10], y[:10]"
      ],
      "metadata": {
        "colab": {
          "base_uri": "https://localhost:8080/"
        },
        "id": "uCshvVTEnBtB",
        "outputId": "6a2128f5-5a1b-4635-f74a-83d9f337ad56"
      },
      "execution_count": 2,
      "outputs": [
        {
          "output_type": "execute_result",
          "data": {
            "text/plain": [
              "(tensor([[0.0000],\n",
              "         [0.0200],\n",
              "         [0.0400],\n",
              "         [0.0600],\n",
              "         [0.0800],\n",
              "         [0.1000],\n",
              "         [0.1200],\n",
              "         [0.1400],\n",
              "         [0.1600],\n",
              "         [0.1800]]), tensor([[0.3000],\n",
              "         [0.3140],\n",
              "         [0.3280],\n",
              "         [0.3420],\n",
              "         [0.3560],\n",
              "         [0.3700],\n",
              "         [0.3840],\n",
              "         [0.3980],\n",
              "         [0.4120],\n",
              "         [0.4260]]))"
            ]
          },
          "metadata": {},
          "execution_count": 2
        }
      ]
    },
    {
      "cell_type": "code",
      "source": [
        "len(X), len(y)"
      ],
      "metadata": {
        "colab": {
          "base_uri": "https://localhost:8080/"
        },
        "id": "LVTBFmjxoXhf",
        "outputId": "03d7ab58-5403-4fe5-bdda-24634aa6ace4"
      },
      "execution_count": 3,
      "outputs": [
        {
          "output_type": "execute_result",
          "data": {
            "text/plain": [
              "(50, 50)"
            ]
          },
          "metadata": {},
          "execution_count": 3
        }
      ]
    },
    {
      "cell_type": "markdown",
      "source": [
        "### Dividindo os dados em treino e teste\n",
        "\n",
        "Precisamos de dados para\n",
        "1. Treinamento (60-80%)\n",
        "2. Validação  (10-20%)\n",
        "3. Teste  (10-20%)\n",
        "\n",
        "O objetivo é atingir generalização, ou seja, conseguir performar bem em novos dados nunca vistos no treino.\n",
        "\n",
        "Aqui não temos a ajuda do sklearn."
      ],
      "metadata": {
        "id": "rsOijo4eoaYh"
      }
    },
    {
      "cell_type": "code",
      "source": [
        "train_split = int(0.8 * len(X))\n",
        "X_train, y_train = X[:train_split], y[:train_split]\n",
        "X_test, y_test = X[train_split:], y[train_split:]\n",
        "\n",
        "len(X_train), len(y_train), len(X_test), len(y_test)"
      ],
      "metadata": {
        "colab": {
          "base_uri": "https://localhost:8080/"
        },
        "id": "GeHcDMd2qBTq",
        "outputId": "cceaa8b2-1c3e-464d-bd34-dfa9c1be49d7"
      },
      "execution_count": 4,
      "outputs": [
        {
          "output_type": "execute_result",
          "data": {
            "text/plain": [
              "(40, 40, 10, 10)"
            ]
          },
          "metadata": {},
          "execution_count": 4
        }
      ]
    },
    {
      "cell_type": "code",
      "source": [
        "def plot_predictions(train_data=X_train,\n",
        "                     train_labels=y_train,\n",
        "                     test_data=X_test,\n",
        "                     test_labels=y_test,\n",
        "                     predictions=None):\n",
        "  \"\"\"\n",
        "  Plota os dados de treino e de teste e compara as predições\n",
        "  \"\"\"\n",
        "\n",
        "  plt.figure(figsize=(10, 7))\n",
        "  size = 20\n",
        "  plt.scatter(train_data, train_labels, c=\"b\", s=size, label=\"Treino\")\n",
        "\n",
        "  plt.scatter(test_data, test_labels, c=\"g\", s=size, label=\"Teste\")\n",
        "\n",
        "  if predictions is not None:\n",
        "    plt.scatter(test_data, predictions, c=\"r\", s=size, label=\"Predições\")\n",
        "  \n",
        "  plt.legend(prop={\"size\": 14})"
      ],
      "metadata": {
        "id": "Bkmx0npkqJUj"
      },
      "execution_count": 5,
      "outputs": []
    },
    {
      "cell_type": "code",
      "source": [
        "plot_predictions()"
      ],
      "metadata": {
        "colab": {
          "base_uri": "https://localhost:8080/",
          "height": 428
        },
        "id": "2imfDavJsJwM",
        "outputId": "1890ae4b-9386-4978-a0f2-e2bbb7eb56e9"
      },
      "execution_count": 6,
      "outputs": [
        {
          "output_type": "display_data",
          "data": {
            "text/plain": [
              "<Figure size 720x504 with 1 Axes>"
            ],
            "image/png": "[encoded data removed]"
          },
          "metadata": {
            "needs_background": "light"
          }
        }
      ]
    },
    {
      "cell_type": "markdown",
      "source": [
        "## 2. Construindo um modelo\n",
        "\n",
        "Nosso primeiro modelo PyTorch\n",
        "\n",
        "O que o modelo faz:\n",
        "* Começa com valores aleatórios (weight e bias)\n",
        "* Olha para os dados de treino e ajusta os valores aleatórios para melhor representar os valores ideais\n",
        "\n",
        "Como?\n",
        "\n",
        "Por meio de dois algoritmos principais:\n",
        "1. Gradient Descent\n",
        "2. Backpropagation"
      ],
      "metadata": {
        "id": "clQrkCORsLfk"
      }
    },
    {
      "cell_type": "code",
      "source": [
        "# Criando uma classe para o modelo de regressão linear\n",
        "import torch\n",
        "from torch import nn\n",
        "\n",
        "class LinearRegressionModel(nn.Module): # Quase tudo no PyTorch herda de nn.Module\n",
        "  def __init__(self):\n",
        "    super().__init__()\n",
        "\n",
        "    #Aqui podem ser definidos quaisquer parâmetros aprendíveis \n",
        "    #Camadas, funções e, no caso, dois parâmetros simples\n",
        "    self.weights = nn.Parameter(torch.randn(1,\n",
        "                                              requires_grad = True, # pode ser att via gradient descent\n",
        "                                              dtype=torch.float))\n",
        "    self.bias = nn.Parameter(torch.randn(1,\n",
        "                                         requires_grad=True,\n",
        "                                         dtype=torch.float))\n",
        "    # O módulo torch.autograd é o que realiza o gradient descent\n",
        "\n",
        "  # Método forward para definir a computação no modelo\n",
        "  def forward(self, x: torch.Tensor) -> torch.Tensor:\n",
        "    return self.weights * x + self.bias #Essa é a fórmula da regressão linear"
      ],
      "metadata": {
        "id": "hhdXU9FMxOpR"
      },
      "execution_count": 7,
      "outputs": []
    },
    {
      "cell_type": "markdown",
      "source": [
        "### Essenciais para construção de modelos PyTorch\n",
        "\n",
        "* torch.nn - Contém tudo relacionado para a construção de grafos computacionais (uma rede neural é um grafo computacional)\n",
        "* torch.nn.Parameter - Quais parâmetros o modelo deve tentar aprender, geralmente, uma camada PyTorch vai defini-los para nós\n",
        "* torch.nn.Module - A classe base para todos os modulos de rede neural. Deve ser sobrescrito ao herdar de Module\n",
        "* torch.optim - Contém os otimizadores do PyTorch e ajudam no Gradient Descent\n",
        "\n",
        "* def forward() - Todas as subclasses de nn.Module requerem que esse método seja sobrescrito. Ele define o que deve ser feito na forward pass\n",
        "\n",
        "Recursos: https://pytorch.org/tutorials/beginner/ptcheat.html"
      ],
      "metadata": {
        "id": "BKOmQ0J41Qx2"
      }
    },
    {
      "cell_type": "markdown",
      "source": [
        "### Checando o conteúdo do modelo\n",
        "\n",
        "Podemos checar o que está dentro do modelo usando `.parameters()` ou `.state_dict()`"
      ],
      "metadata": {
        "id": "PHGjF-fu2o3q"
      }
    },
    {
      "cell_type": "code",
      "source": [
        "RANDOM_SEED = 42\n",
        "torch.manual_seed(RANDOM_SEED)\n",
        "\n",
        "model_0 = LinearRegressionModel()\n",
        "\n",
        "list(model_0.parameters())"
      ],
      "metadata": {
        "colab": {
          "base_uri": "https://localhost:8080/"
        },
        "id": "ADeZK5yf8oAn",
        "outputId": "58078c48-a6b0-47b3-e890-530a4a48c422"
      },
      "execution_count": 15,
      "outputs": [
        {
          "output_type": "execute_result",
          "data": {
            "text/plain": [
              "[Parameter containing:\n",
              " tensor([0.3367], requires_grad=True), Parameter containing:\n",
              " tensor([0.1288], requires_grad=True)]"
            ]
          },
          "metadata": {},
          "execution_count": 15
        }
      ]
    },
    {
      "cell_type": "code",
      "source": [
        "model_0.state_dict()"
      ],
      "metadata": {
        "colab": {
          "base_uri": "https://localhost:8080/"
        },
        "id": "rkkkYEsY9BdT",
        "outputId": "8c013baf-8da4-4cdf-d8d9-c0876c6509b9"
      },
      "execution_count": 9,
      "outputs": [
        {
          "output_type": "execute_result",
          "data": {
            "text/plain": [
              "OrderedDict([('weights', tensor([0.3367])), ('bias', tensor([0.1288]))])"
            ]
          },
          "metadata": {},
          "execution_count": 9
        }
      ]
    },
    {
      "cell_type": "markdown",
      "source": [
        "## Realizando predições usando `torch.inference_mode()`\n",
        "\n",
        "Para testar o poder preditivo atual do modelo, vamos ver quão bem ele prediz `y_test` a partir de `X_test`.\n",
        "\n",
        "Ao passar os dados pelo modelo, ele irá rodar pelo método `forward()`."
      ],
      "metadata": {
        "id": "oZZNjC0591pu"
      }
    },
    {
      "cell_type": "code",
      "source": [
        "# Fazendo predições com o estado atual do modelo\n",
        "with torch.inference_mode(): # O modo de inferência faz as predições serem mais rápidas\n",
        "  y_preds = model_0(X_test)\n",
        "\n",
        "# Também é possível usar o no_grad, mas o inference_mode é preferível\n",
        "# with torch.no_grad():\n",
        "#   y_preds = model_0(X_test)\n",
        "\n",
        "y_preds"
      ],
      "metadata": {
        "colab": {
          "base_uri": "https://localhost:8080/"
        },
        "id": "5Q1LncM5Z0Zv",
        "outputId": "f05dbc82-c6b5-4ae9-d414-974f4aee4cda"
      },
      "execution_count": 10,
      "outputs": [
        {
          "output_type": "execute_result",
          "data": {
            "text/plain": [
              "tensor([[0.3982],\n",
              "        [0.4049],\n",
              "        [0.4116],\n",
              "        [0.4184],\n",
              "        [0.4251],\n",
              "        [0.4318],\n",
              "        [0.4386],\n",
              "        [0.4453],\n",
              "        [0.4520],\n",
              "        [0.4588]])"
            ]
          },
          "metadata": {},
          "execution_count": 10
        }
      ]
    },
    {
      "cell_type": "code",
      "source": [
        "plot_predictions(predictions=y_preds)"
      ],
      "metadata": {
        "colab": {
          "base_uri": "https://localhost:8080/",
          "height": 428
        },
        "id": "Te72xmxyaTbK",
        "outputId": "6819aa0d-142e-4915-ed3e-79cb81b518d1"
      },
      "execution_count": 11,
      "outputs": [
        {
          "output_type": "display_data",
          "data": {
            "text/plain": [
              "<Figure size 720x504 with 1 Axes>"
            ],
            "image/png": "[encoded data removed]"
          },
          "metadata": {
            "needs_background": "light"
          }
        }
      ]
    },
    {
      "cell_type": "markdown",
      "source": [
        "## 3. Treinando o modelo\n",
        "\n",
        "A ideia do treinamento é mover de parâmetros desconhecidos (aleatórios) para conhecidos.\n",
        "\n",
        "Em outras palavras, partir de uma má representação para uma boa representação dos dados.\n",
        "\n",
        "Uma forma de medir quão errado as predições do modelo estão, é usar uma função de perda (*loss function*).\n",
        "\n",
        "* Nota: A função de perda também pode ser chamada de função de custo ou *criterion*.\n",
        "\n",
        "Coisas que precisamos treinar:\n",
        "\n",
        "* **Loss function:** Uma função para medir quão errado estão as predições do modelo com relação com as saídas ideais.\n",
        "\n",
        "* **Otimizador**: Leva em consideração a perda do modelo e ajusta os parâmetros do modelo (weight e bias nesse caso) para melhorar a função de perda. - https://pytorch.org/docs/stable/optim.html\n",
        "\n",
        "  * `params` - Os parâmetros do modelo que queremos otimizar\n",
        "  * `lr` (learning rate) - É um hiperparâmetro que define quão grande/pequeno o otimizador muda os parâmetros a cada passo.\n",
        "\n",
        "Especificamente para PyTorch:\n",
        "\n",
        "* Um loop de treino\n",
        "* Um loop de teste"
      ],
      "metadata": {
        "id": "kd9BJOqMa8XI"
      }
    },
    {
      "cell_type": "code",
      "source": [
        "# Definir uma loss func\n",
        "loss_fn = nn.L1Loss()\n",
        "\n",
        "# Definir um otimizador\n",
        "optimizer = torch.optim.SGD(params=model_0.parameters(),\n",
        "                            lr=0.01) # lr = learning rate\n",
        "\n",
        "# O learning rate não precisa ser fixo:\n",
        "# https://towardsdatascience.com/learning-rate-schedules-and-adaptive-learning-rate-methods-for-deep-learning-2c8f433990d1"
      ],
      "metadata": {
        "id": "jf4T5zF0c_XR"
      },
      "execution_count": 16,
      "outputs": []
    },
    {
      "cell_type": "markdown",
      "source": [
        "### Construindo um loop de treinamento e de teste em PyTorch\n",
        "\n",
        "Coisas que precisamos em um loop de treino:\n",
        "0. Loop nos dados\n",
        "1. Forward pass (propagation) para realizar predições nos dados\n",
        "2. Calcular a perda (*loss*) ao comparar as predições com os valores almejados\n",
        "3. Optimizer zero grad - Zera os gradientes para que eles não se acumulem\n",
        "4. Loss backward (**backpropagation**) - Move do fim ao início da rede para calcular os gradientes de cada um dos parâmetros do modelo\n",
        "5. Passo do otimizador - Usa do otimizador para ajustar os parÂmetros do modelo para melhorar a perda (**gradient descent**)\n",
        "\n",
        "* Recurso: \n",
        "https://pytorch.org/tutorials/beginner/basics/autogradqs_tutorial.html\n"
      ],
      "metadata": {
        "id": "fGKQPUujfeKP"
      }
    },
    {
      "cell_type": "code",
      "source": [
        "RANDOM_SEED = 42\n",
        "torch.manual_seed(RANDOM_SEED)\n",
        "# Uma época é um loop pelos dados (ele é um hiperparâmetro)\n",
        "epochs = 500\n",
        "\n",
        "# Grava diferentes valores\n",
        "epoch_count = []\n",
        "loss_values = []\n",
        "test_losses = []\n",
        "\n",
        "# 0. Loop pelos dados\n",
        "for epoch in range(epochs):\n",
        "  # Define o modelo para o modo treino\n",
        "  model_0.train() # Liga o rastreamento de gradientes\n",
        "\n",
        "  # 1. Forward Pass\n",
        "  y_pred = model_0(X_train)\n",
        "\n",
        "  # 2. Calculate the Loss\n",
        "  loss = loss_fn(y_pred, y_train)\n",
        "\n",
        "  # 3. Optimizer zero grad\n",
        "  optimizer.zero_grad()\n",
        "\n",
        "  # 4. Performa backpropagation\n",
        "  # A forma como o otimizador funciona acumula ao longo do loop\n",
        "  # Assim, devemos zerá-lo no passo 3\n",
        "  loss.backward()\n",
        "\n",
        "  # 5. Gradient Descent\n",
        "  # Atualiza os valores dos parâmetros do modelo\n",
        "  optimizer.step()\n",
        "\n",
        "  ### Testando\n",
        "  model_0.eval() # Desliga configurações não necessárias para teste\n",
        "\n",
        "  with torch.inference_mode(): #Desliga rastreamento de gradientes e outras coisas\n",
        "    # 1. Forward pass\n",
        "    test_pred = model_0(X_test)\n",
        "\n",
        "    # 2. Calcular a loss\n",
        "    test_loss = loss_fn(test_pred, y_test)\n",
        "\n",
        "  # Printa o que está acontecendo\n",
        "  if epoch % 10 == 0:\n",
        "    epoch_count.append(epoch)\n",
        "    test_losses.append(test_loss.detach().numpy())\n",
        "    loss_values.append(loss.detach().numpy())\n",
        "    print(f\"Epoch: {epoch} | Loss: {loss} | Test loss: {test_loss}\")\n",
        "\n",
        "    print(model_0.state_dict())"
      ],
      "metadata": {
        "id": "tD5zoli0iM24",
        "colab": {
          "base_uri": "https://localhost:8080/"
        },
        "outputId": "5d31459a-7799-428d-b1b4-a3c9cde98a45"
      },
      "execution_count": 17,
      "outputs": [
        {
          "output_type": "stream",
          "name": "stdout",
          "text": [
            "Epoch: 0 | Loss: 0.31288138031959534 | Test loss: 0.48106518387794495\n",
            "OrderedDict([('weights', tensor([0.3406])), ('bias', tensor([0.1388]))])\n",
            "Epoch: 10 | Loss: 0.1976713240146637 | Test loss: 0.3463551998138428\n",
            "OrderedDict([('weights', tensor([0.3796])), ('bias', tensor([0.2388]))])\n",
            "Epoch: 20 | Loss: 0.08908725529909134 | Test loss: 0.21729660034179688\n",
            "OrderedDict([('weights', tensor([0.4184])), ('bias', tensor([0.3333]))])\n",
            "Epoch: 30 | Loss: 0.053148526698350906 | Test loss: 0.14464017748832703\n",
            "OrderedDict([('weights', tensor([0.4512])), ('bias', tensor([0.3768]))])\n",
            "Epoch: 40 | Loss: 0.04543796554207802 | Test loss: 0.11360953003168106\n",
            "OrderedDict([('weights', tensor([0.4748])), ('bias', tensor([0.3868]))])\n",
            "Epoch: 50 | Loss: 0.04167863354086876 | Test loss: 0.09919948130846024\n",
            "OrderedDict([('weights', tensor([0.4938])), ('bias', tensor([0.3843]))])\n",
            "Epoch: 60 | Loss: 0.03818932920694351 | Test loss: 0.08886633068323135\n",
            "OrderedDict([('weights', tensor([0.5116])), ('bias', tensor([0.3788]))])\n",
            "Epoch: 70 | Loss: 0.03476089984178543 | Test loss: 0.0805937647819519\n",
            "OrderedDict([('weights', tensor([0.5288])), ('bias', tensor([0.3718]))])\n",
            "Epoch: 80 | Loss: 0.03132382780313492 | Test loss: 0.07232122868299484\n",
            "OrderedDict([('weights', tensor([0.5459])), ('bias', tensor([0.3648]))])\n",
            "Epoch: 90 | Loss: 0.02788739837706089 | Test loss: 0.06473556160926819\n",
            "OrderedDict([('weights', tensor([0.5629])), ('bias', tensor([0.3573]))])\n",
            "Epoch: 100 | Loss: 0.024458957836031914 | Test loss: 0.05646304413676262\n",
            "OrderedDict([('weights', tensor([0.5800])), ('bias', tensor([0.3503]))])\n",
            "Epoch: 110 | Loss: 0.021020207554101944 | Test loss: 0.04819049686193466\n",
            "OrderedDict([('weights', tensor([0.5972])), ('bias', tensor([0.3433]))])\n",
            "Epoch: 120 | Loss: 0.01758546568453312 | Test loss: 0.04060482233762741\n",
            "OrderedDict([('weights', tensor([0.6141])), ('bias', tensor([0.3358]))])\n",
            "Epoch: 130 | Loss: 0.014155393466353416 | Test loss: 0.03233227878808975\n",
            "OrderedDict([('weights', tensor([0.6313])), ('bias', tensor([0.3288]))])\n",
            "Epoch: 140 | Loss: 0.010716589167714119 | Test loss: 0.024059748277068138\n",
            "OrderedDict([('weights', tensor([0.6485])), ('bias', tensor([0.3218]))])\n",
            "Epoch: 150 | Loss: 0.0072835334576666355 | Test loss: 0.016474086791276932\n",
            "OrderedDict([('weights', tensor([0.6654])), ('bias', tensor([0.3143]))])\n",
            "Epoch: 160 | Loss: 0.0038517764769494534 | Test loss: 0.008201557211577892\n",
            "OrderedDict([('weights', tensor([0.6826])), ('bias', tensor([0.3073]))])\n",
            "Epoch: 170 | Loss: 0.008932482451200485 | Test loss: 0.005023092031478882\n",
            "OrderedDict([('weights', tensor([0.6951])), ('bias', tensor([0.2993]))])\n",
            "Epoch: 180 | Loss: 0.008932482451200485 | Test loss: 0.005023092031478882\n",
            "OrderedDict([('weights', tensor([0.6951])), ('bias', tensor([0.2993]))])\n",
            "Epoch: 190 | Loss: 0.008932482451200485 | Test loss: 0.005023092031478882\n",
            "OrderedDict([('weights', tensor([0.6951])), ('bias', tensor([0.2993]))])\n",
            "Epoch: 200 | Loss: 0.008932482451200485 | Test loss: 0.005023092031478882\n",
            "OrderedDict([('weights', tensor([0.6951])), ('bias', tensor([0.2993]))])\n",
            "Epoch: 210 | Loss: 0.008932482451200485 | Test loss: 0.005023092031478882\n",
            "OrderedDict([('weights', tensor([0.6951])), ('bias', tensor([0.2993]))])\n",
            "Epoch: 220 | Loss: 0.008932482451200485 | Test loss: 0.005023092031478882\n",
            "OrderedDict([('weights', tensor([0.6951])), ('bias', tensor([0.2993]))])\n",
            "Epoch: 230 | Loss: 0.008932482451200485 | Test loss: 0.005023092031478882\n",
            "OrderedDict([('weights', tensor([0.6951])), ('bias', tensor([0.2993]))])\n",
            "Epoch: 240 | Loss: 0.008932482451200485 | Test loss: 0.005023092031478882\n",
            "OrderedDict([('weights', tensor([0.6951])), ('bias', tensor([0.2993]))])\n",
            "Epoch: 250 | Loss: 0.008932482451200485 | Test loss: 0.005023092031478882\n",
            "OrderedDict([('weights', tensor([0.6951])), ('bias', tensor([0.2993]))])\n",
            "Epoch: 260 | Loss: 0.008932482451200485 | Test loss: 0.005023092031478882\n",
            "OrderedDict([('weights', tensor([0.6951])), ('bias', tensor([0.2993]))])\n",
            "Epoch: 270 | Loss: 0.008932482451200485 | Test loss: 0.005023092031478882\n",
            "OrderedDict([('weights', tensor([0.6951])), ('bias', tensor([0.2993]))])\n",
            "Epoch: 280 | Loss: 0.008932482451200485 | Test loss: 0.005023092031478882\n",
            "OrderedDict([('weights', tensor([0.6951])), ('bias', tensor([0.2993]))])\n",
            "Epoch: 290 | Loss: 0.008932482451200485 | Test loss: 0.005023092031478882\n",
            "OrderedDict([('weights', tensor([0.6951])), ('bias', tensor([0.2993]))])\n",
            "Epoch: 300 | Loss: 0.008932482451200485 | Test loss: 0.005023092031478882\n",
            "OrderedDict([('weights', tensor([0.6951])), ('bias', tensor([0.2993]))])\n",
            "Epoch: 310 | Loss: 0.008932482451200485 | Test loss: 0.005023092031478882\n",
            "OrderedDict([('weights', tensor([0.6951])), ('bias', tensor([0.2993]))])\n",
            "Epoch: 320 | Loss: 0.008932482451200485 | Test loss: 0.005023092031478882\n",
            "OrderedDict([('weights', tensor([0.6951])), ('bias', tensor([0.2993]))])\n",
            "Epoch: 330 | Loss: 0.008932482451200485 | Test loss: 0.005023092031478882\n",
            "OrderedDict([('weights', tensor([0.6951])), ('bias', tensor([0.2993]))])\n",
            "Epoch: 340 | Loss: 0.008932482451200485 | Test loss: 0.005023092031478882\n",
            "OrderedDict([('weights', tensor([0.6951])), ('bias', tensor([0.2993]))])\n",
            "Epoch: 350 | Loss: 0.008932482451200485 | Test loss: 0.005023092031478882\n",
            "OrderedDict([('weights', tensor([0.6951])), ('bias', tensor([0.2993]))])\n",
            "Epoch: 360 | Loss: 0.008932482451200485 | Test loss: 0.005023092031478882\n",
            "OrderedDict([('weights', tensor([0.6951])), ('bias', tensor([0.2993]))])\n",
            "Epoch: 370 | Loss: 0.008932482451200485 | Test loss: 0.005023092031478882\n",
            "OrderedDict([('weights', tensor([0.6951])), ('bias', tensor([0.2993]))])\n",
            "Epoch: 380 | Loss: 0.008932482451200485 | Test loss: 0.005023092031478882\n",
            "OrderedDict([('weights', tensor([0.6951])), ('bias', tensor([0.2993]))])\n",
            "Epoch: 390 | Loss: 0.008932482451200485 | Test loss: 0.005023092031478882\n",
            "OrderedDict([('weights', tensor([0.6951])), ('bias', tensor([0.2993]))])\n",
            "Epoch: 400 | Loss: 0.008932482451200485 | Test loss: 0.005023092031478882\n",
            "OrderedDict([('weights', tensor([0.6951])), ('bias', tensor([0.2993]))])\n",
            "Epoch: 410 | Loss: 0.008932482451200485 | Test loss: 0.005023092031478882\n",
            "OrderedDict([('weights', tensor([0.6951])), ('bias', tensor([0.2993]))])\n",
            "Epoch: 420 | Loss: 0.008932482451200485 | Test loss: 0.005023092031478882\n",
            "OrderedDict([('weights', tensor([0.6951])), ('bias', tensor([0.2993]))])\n",
            "Epoch: 430 | Loss: 0.008932482451200485 | Test loss: 0.005023092031478882\n",
            "OrderedDict([('weights', tensor([0.6951])), ('bias', tensor([0.2993]))])\n",
            "Epoch: 440 | Loss: 0.008932482451200485 | Test loss: 0.005023092031478882\n",
            "OrderedDict([('weights', tensor([0.6951])), ('bias', tensor([0.2993]))])\n",
            "Epoch: 450 | Loss: 0.008932482451200485 | Test loss: 0.005023092031478882\n",
            "OrderedDict([('weights', tensor([0.6951])), ('bias', tensor([0.2993]))])\n",
            "Epoch: 460 | Loss: 0.008932482451200485 | Test loss: 0.005023092031478882\n",
            "OrderedDict([('weights', tensor([0.6951])), ('bias', tensor([0.2993]))])\n",
            "Epoch: 470 | Loss: 0.008932482451200485 | Test loss: 0.005023092031478882\n",
            "OrderedDict([('weights', tensor([0.6951])), ('bias', tensor([0.2993]))])\n",
            "Epoch: 480 | Loss: 0.008932482451200485 | Test loss: 0.005023092031478882\n",
            "OrderedDict([('weights', tensor([0.6951])), ('bias', tensor([0.2993]))])\n",
            "Epoch: 490 | Loss: 0.008932482451200485 | Test loss: 0.005023092031478882\n",
            "OrderedDict([('weights', tensor([0.6951])), ('bias', tensor([0.2993]))])\n"
          ]
        }
      ]
    },
    {
      "cell_type": "markdown",
      "source": [
        "Loss: 0.02479521557688713\n",
        "OrderedDict([('weights', tensor([0.5784])), ('bias', tensor([0.3513]))])"
      ],
      "metadata": {
        "id": "FPQj7XKIzzUA"
      }
    },
    {
      "cell_type": "code",
      "source": [
        "#Predições antigas com pesos aleatórios\n",
        "plot_predictions(predictions=y_preds)"
      ],
      "metadata": {
        "colab": {
          "base_uri": "https://localhost:8080/",
          "height": 428
        },
        "id": "CEqx1CqHxKDj",
        "outputId": "307eaf3d-29c4-4b08-c472-ce6963a8416e"
      },
      "execution_count": 18,
      "outputs": [
        {
          "output_type": "display_data",
          "data": {
            "text/plain": [
              "<Figure size 720x504 with 1 Axes>"
            ],
            "image/png": "[encoded data removed]"
          },
          "metadata": {
            "needs_background": "light"
          }
        }
      ]
    },
    {
      "cell_type": "code",
      "source": [
        "with torch.inference_mode():\n",
        "  y_preds_new = model_0(X_test)"
      ],
      "metadata": {
        "id": "tm4sWyhKusKJ"
      },
      "execution_count": 19,
      "outputs": []
    },
    {
      "cell_type": "code",
      "source": [
        "# Após treinamento\n",
        "plot_predictions(predictions=y_preds_new)"
      ],
      "metadata": {
        "colab": {
          "base_uri": "https://localhost:8080/",
          "height": 428
        },
        "id": "10i2db2mv-fu",
        "outputId": "9dfdaf4c-bff3-442f-d994-20c5c532c709"
      },
      "execution_count": 20,
      "outputs": [
        {
          "output_type": "display_data",
          "data": {
            "text/plain": [
              "<Figure size 720x504 with 1 Axes>"
            ],
            "image/png": "[encoded data removed]"
          },
          "metadata": {
            "needs_background": "light"
          }
        }
      ]
    },
    {
      "cell_type": "code",
      "source": [
        "# Plota as curvas de loss\n",
        "plt.plot(epoch_count, loss_values, label=\"Train loss\")\n",
        "plt.plot(epoch_count, test_losses, label=\"Test loss\")\n",
        "plt.title(\"Curvas de loss de treino e de teste\")\n",
        "plt.ylabel(\"Loss\")\n",
        "plt.xlabel(\"Epochs\")\n",
        "plt.legend()"
      ],
      "metadata": {
        "colab": {
          "base_uri": "https://localhost:8080/",
          "height": 312
        },
        "id": "TaPZZOUUxVVt",
        "outputId": "903306b5-986c-410b-e307-35d104b451d2"
      },
      "execution_count": 21,
      "outputs": [
        {
          "output_type": "execute_result",
          "data": {
            "text/plain": [
              "<matplotlib.legend.Legend at 0x7f1bd85d5220>"
            ]
          },
          "metadata": {},
          "execution_count": 21
        },
        {
          "output_type": "display_data",
          "data": {
            "text/plain": [
              "<Figure size 432x288 with 1 Axes>"
            ],
            "image/png": "[encoded data removed]"
          },
          "metadata": {
            "needs_background": "light"
          }
        }
      ]
    },
    {
      "cell_type": "markdown",
      "source": [
        "## Salvando um modelo em PyTorch\n",
        "\n",
        "Existem três formas principais para salvar e carregar modelos em PyTorch.\n",
        "\n",
        "1. `torch.save()` - Permite salvar um objeto PyTorch em formato `pickle`.\n",
        "2. `torch.load()` - Permite carregar um objeto PyTorch salvo\n",
        "3. `torch.nn.Module.load_state_dict()` -  Permite carregar o dicionário de estados de um modelo\n",
        "\n",
        "Recurso: https://pytorch.org/tutorials/beginner/saving_loading_models.html"
      ],
      "metadata": {
        "id": "4Rue92en2obm"
      }
    },
    {
      "cell_type": "code",
      "source": [
        "model_0.state_dict()"
      ],
      "metadata": {
        "colab": {
          "base_uri": "https://localhost:8080/"
        },
        "id": "QrdUuqYatQK_",
        "outputId": "131bfad1-b6b6-4c36-8ebf-d6fc95e54024"
      },
      "execution_count": 22,
      "outputs": [
        {
          "output_type": "execute_result",
          "data": {
            "text/plain": [
              "OrderedDict([('weights', tensor([0.6990])), ('bias', tensor([0.3093]))])"
            ]
          },
          "metadata": {},
          "execution_count": 22
        }
      ]
    },
    {
      "cell_type": "code",
      "source": [
        "# Salvando o modelo PyTorch\n",
        "from pathlib import Path\n",
        "\n",
        "# 1. Cria pasta de modelos\n",
        "MODEL_PATH = Path(\"models\")\n",
        "MODEL_PATH.mkdir(parents=True, exist_ok=True)\n",
        "\n",
        "# 2. Cria o path do modelo\n",
        "MODEL_NAME = \"01_pytorch_workflow_model_0.pth\"\n",
        "MODEL_SAVE_PATH = MODEL_PATH / MODEL_NAME\n",
        "\n",
        "# 3. Salvando o state_dict ( que é o recomendado )\n",
        "print(f\"Salvando modelo em: {MODEL_SAVE_PATH}\")\n",
        "torch.save(obj=model_0.state_dict(), f=MODEL_SAVE_PATH)"
      ],
      "metadata": {
        "colab": {
          "base_uri": "https://localhost:8080/"
        },
        "id": "bR3Ankr_t4-c",
        "outputId": "b8a79542-567b-4bd7-81a7-4c8ed318d5d2"
      },
      "execution_count": 25,
      "outputs": [
        {
          "output_type": "stream",
          "name": "stdout",
          "text": [
            "Salvando modelo em: models/01_pytorch_workflow_model_0.pth\n"
          ]
        }
      ]
    },
    {
      "cell_type": "code",
      "source": [
        "!ls -l models"
      ],
      "metadata": {
        "colab": {
          "base_uri": "https://localhost:8080/"
        },
        "id": "QqlTDNhrvZIj",
        "outputId": "6637c31b-fe53-4788-d2f6-2fac76468289"
      },
      "execution_count": 26,
      "outputs": [
        {
          "output_type": "stream",
          "name": "stdout",
          "text": [
            "total 4\n",
            "-rw-r--r-- 1 root root 1207 Jan 13 20:08 01_pytorch_workflow_model_0.pth\n"
          ]
        }
      ]
    },
    {
      "cell_type": "markdown",
      "source": [
        "## Carregando o modelo\n",
        "\n",
        "Já que salvamos o `state_dict()` do modelo ao invés de ele todo, criaremos outra instância da classe do modelo e carregamos o `state_dict()` para esse novo."
      ],
      "metadata": {
        "id": "HGbsu5FNwFAd"
      }
    },
    {
      "cell_type": "code",
      "source": [
        "loaded_model_0 = LinearRegressionModel()\n",
        "loaded_model_0.load_state_dict(torch.load(f=MODEL_SAVE_PATH))\n",
        "loaded_model_0.state_dict()"
      ],
      "metadata": {
        "colab": {
          "base_uri": "https://localhost:8080/"
        },
        "id": "lXSvAy1Owtw8",
        "outputId": "11e09ce9-3b9a-45a0-ac82-086ccfdcd533"
      },
      "execution_count": 28,
      "outputs": [
        {
          "output_type": "execute_result",
          "data": {
            "text/plain": [
              "OrderedDict([('weights', tensor([0.6990])), ('bias', tensor([0.3093]))])"
            ]
          },
          "metadata": {},
          "execution_count": 28
        }
      ]
    },
    {
      "cell_type": "code",
      "source": [
        "# Fazendo predições para ter certeza\n",
        "loaded_model_0.eval()\n",
        "with torch.inference_mode():\n",
        "  loaded_model_preds = loaded_model_0(X_test)\n",
        "\n",
        "# Vendo se as predições batem\n",
        "y_preds_new == loaded_model_preds"
      ],
      "metadata": {
        "colab": {
          "base_uri": "https://localhost:8080/"
        },
        "id": "-wr1eLagxDoB",
        "outputId": "2fe062b5-cae3-4e6f-e153-9dc799f6a68e"
      },
      "execution_count": 32,
      "outputs": [
        {
          "output_type": "execute_result",
          "data": {
            "text/plain": [
              "tensor([[True],\n",
              "        [True],\n",
              "        [True],\n",
              "        [True],\n",
              "        [True],\n",
              "        [True],\n",
              "        [True],\n",
              "        [True],\n",
              "        [True],\n",
              "        [True]])"
            ]
          },
          "metadata": {},
          "execution_count": 32
        }
      ]
    },
    {
      "cell_type": "markdown",
      "source": [
        "# 6. Juntando tudo em um lugar"
      ],
      "metadata": {
        "id": "3TPUpiaKxsMF"
      }
    },
    {
      "cell_type": "code",
      "source": [
        "import torch\n",
        "from torch import nn\n",
        "import matplotlib.pyplot as plt\n",
        "\n",
        "torch.__version__"
      ],
      "metadata": {
        "colab": {
          "base_uri": "https://localhost:8080/",
          "height": 35
        },
        "id": "GUkaZ5XfybHo",
        "outputId": "df9cf139-e327-4016-a5e1-6d8f5aafa013"
      },
      "execution_count": 35,
      "outputs": [
        {
          "output_type": "execute_result",
          "data": {
            "text/plain": [
              "'1.13.0+cu116'"
            ],
            "application/vnd.google.colaboratory.intrinsic+json": {
              "type": "string"
            }
          },
          "metadata": {},
          "execution_count": 35
        }
      ]
    },
    {
      "cell_type": "markdown",
      "source": [
        "Criando código agnóstico a *device*."
      ],
      "metadata": {
        "id": "uhTqI9qvy19R"
      }
    },
    {
      "cell_type": "code",
      "source": [
        "device = \"cuda\" if torch.cuda.is_available() else \"cpu\"\n",
        "print(f\"Usando device: {device}\") "
      ],
      "metadata": {
        "colab": {
          "base_uri": "https://localhost:8080/"
        },
        "id": "g1Ukk54Ly-3Q",
        "outputId": "5b80c07b-54f3-4e93-ce79-4ba036dada87"
      },
      "execution_count": 36,
      "outputs": [
        {
          "output_type": "stream",
          "name": "stdout",
          "text": [
            "Usando device: cuda\n"
          ]
        }
      ]
    },
    {
      "cell_type": "markdown",
      "source": [
        "# 6.1 Criando dados usando a fórmula de regressão linear y = weight * X + bias"
      ],
      "metadata": {
        "id": "wlxTHAvhzr6k"
      }
    },
    {
      "cell_type": "code",
      "source": [
        "real_weight = 0.7\n",
        "real_bias = 0.3\n",
        "\n",
        "start = 0\n",
        "end = 1\n",
        "step = 0.02\n",
        "\n",
        "X = torch.arange(start, end, step).unsqueeze(dim=1) # Sem o unsqueeze, erros aparecem\n",
        "y = real_weight * X + real_bias"
      ],
      "metadata": {
        "id": "gDwrqRHszLq5"
      },
      "execution_count": 38,
      "outputs": []
    },
    {
      "cell_type": "code",
      "source": [
        "# Dividindo os dados\n",
        "train_split = int(0.8* len(X))\n",
        "X_train, y_train = X[:train_split], y[:train_split]\n",
        "X_test, y_test = X[train_split:], y[train_split:]\n",
        "len(X_train), len(X_test)"
      ],
      "metadata": {
        "colab": {
          "base_uri": "https://localhost:8080/"
        },
        "id": "Sbal3W7F0Mq0",
        "outputId": "aef2f4f3-6c37-48e3-c95b-261e3bd71496"
      },
      "execution_count": 39,
      "outputs": [
        {
          "output_type": "execute_result",
          "data": {
            "text/plain": [
              "(40, 10)"
            ]
          },
          "metadata": {},
          "execution_count": 39
        }
      ]
    },
    {
      "cell_type": "code",
      "source": [
        "plot_predictions(X_train, y_train, X_test, y_test)"
      ],
      "metadata": {
        "colab": {
          "base_uri": "https://localhost:8080/",
          "height": 428
        },
        "id": "lC2sGoYV0fHu",
        "outputId": "8e118063-b37e-4531-ceea-ff498cba5009"
      },
      "execution_count": 41,
      "outputs": [
        {
          "output_type": "display_data",
          "data": {
            "text/plain": [
              "<Figure size 720x504 with 1 Axes>"
            ],
            "image/png": "[encoded data removed]"
          },
          "metadata": {
            "needs_background": "light"
          }
        }
      ]
    },
    {
      "cell_type": "markdown",
      "source": [
        "# 6.2 Construindo um modelo linear"
      ],
      "metadata": {
        "id": "Bqpr7wcZ0pXG"
      }
    },
    {
      "cell_type": "code",
      "source": [
        "class LinearRegressionModelV2(nn.Module):\n",
        "  def __init__(self):\n",
        "    super().__init__()\n",
        "    # Usando nn.Linear() para criar os parâmetros do modelo\n",
        "    # Significa que recebemos como entrada apenas um número\n",
        "    # e retornamos apenas um número\n",
        "    # Essa classe já implementa a fórmula da regressão linear\n",
        "    self.linear_layer = nn.Linear(in_features=1,\n",
        "                                  out_features=1)\n",
        "  \n",
        "  def forward(self, x: torch.Tensor) -> torch.Tensor:\n",
        "    return self.linear_layer(x)\n",
        "\n",
        "torch.manual_seed(42)\n",
        "model_1 = LinearRegressionModelV2()\n",
        "model_1, model_1.state_dict()"
      ],
      "metadata": {
        "colab": {
          "base_uri": "https://localhost:8080/"
        },
        "id": "VWotXicg1C8g",
        "outputId": "262de726-f71f-4361-c308-45d82d077fe4"
      },
      "execution_count": 55,
      "outputs": [
        {
          "output_type": "execute_result",
          "data": {
            "text/plain": [
              "(LinearRegressionModelV2(\n",
              "   (linear_layer): Linear(in_features=1, out_features=1, bias=True)\n",
              " ),\n",
              " OrderedDict([('linear_layer.weight', tensor([[0.7645]])),\n",
              "              ('linear_layer.bias', tensor([0.8300]))]))"
            ]
          },
          "metadata": {},
          "execution_count": 55
        }
      ]
    },
    {
      "cell_type": "code",
      "source": [
        "model_1.to(device)\n",
        "next(model_1.parameters()).device"
      ],
      "metadata": {
        "colab": {
          "base_uri": "https://localhost:8080/"
        },
        "id": "xA1sFv9n2pOL",
        "outputId": "e04a4338-2715-47d0-b096-8f850d78a7dc"
      },
      "execution_count": 56,
      "outputs": [
        {
          "output_type": "execute_result",
          "data": {
            "text/plain": [
              "device(type='cuda', index=0)"
            ]
          },
          "metadata": {},
          "execution_count": 56
        }
      ]
    },
    {
      "cell_type": "markdown",
      "source": [
        "### 6.3 Código de treinamento\n",
        "\n",
        "Precisamos de:\n",
        "* Loss Function\n",
        "* Optimizer\n",
        "* Loop de treinamento\n",
        "* Loop de teste"
      ],
      "metadata": {
        "id": "b6LiCy_b8OiA"
      }
    },
    {
      "cell_type": "code",
      "source": [
        "loss_fn = nn.L1Loss()\n",
        "\n",
        "optimizer = torch.optim.SGD(params=model_1.parameters(), \n",
        "                            lr=0.01)"
      ],
      "metadata": {
        "id": "9NhEeloa8nUJ"
      },
      "execution_count": 57,
      "outputs": []
    },
    {
      "cell_type": "code",
      "source": [
        "epochs = 200\n",
        "\n",
        "torch.manual_seed(42)\n",
        "\n",
        "epoch_count = []\n",
        "train_losses = []\n",
        "test_losses = []\n",
        "\n",
        "# Mudando o device dos dados\n",
        "\n",
        "X_train, X_test = X_train.to(device), X_test.to(device)\n",
        "y_train, y_test = y_train.to(device), y_test.to(device)\n",
        "\n",
        "for epoch in range(epochs):\n",
        "  model_1.train()\n",
        "\n",
        "  y_pred = model_1(X_train)\n",
        "\n",
        "  train_loss = loss_fn(y_pred, y_train)\n",
        "\n",
        "  optimizer.zero_grad()\n",
        "\n",
        "  train_loss.backward()\n",
        "\n",
        "  optimizer.step()\n",
        "\n",
        "  model_1.eval()\n",
        "\n",
        "  with torch.inference_mode():\n",
        "    test_pred = model_1(X_test)\n",
        "\n",
        "    test_loss = loss_fn(test_pred, y_test)\n",
        "\n",
        "    if epoch % 10 == 0:\n",
        "      epoch_count.append(epoch)\n",
        "      train_losses.append(train_loss)\n",
        "      test_losses.append(test_loss)\n",
        "      print(f\"Epoch : {epoch} | Train Loss: {train_loss} | Test Loss: {test_loss}\")"
      ],
      "metadata": {
        "colab": {
          "base_uri": "https://localhost:8080/"
        },
        "id": "Yb6teeU09CS2",
        "outputId": "a4737d1b-d46a-47b7-a64f-ed4714665d24"
      },
      "execution_count": 58,
      "outputs": [
        {
          "output_type": "stream",
          "name": "stdout",
          "text": [
            "Epoch : 0 | Train Loss: 0.5551779866218567 | Test Loss: 0.5739762187004089\n",
            "Epoch : 10 | Train Loss: 0.439968079328537 | Test Loss: 0.4392664134502411\n",
            "Epoch : 20 | Train Loss: 0.3247582018375397 | Test Loss: 0.30455657839775085\n",
            "Epoch : 30 | Train Loss: 0.20954833924770355 | Test Loss: 0.16984669864177704\n",
            "Epoch : 40 | Train Loss: 0.09433845430612564 | Test Loss: 0.03513690456748009\n",
            "Epoch : 50 | Train Loss: 0.023886388167738914 | Test Loss: 0.04784907028079033\n",
            "Epoch : 60 | Train Loss: 0.019956795498728752 | Test Loss: 0.045803118497133255\n",
            "Epoch : 70 | Train Loss: 0.016517987474799156 | Test Loss: 0.037530567497015\n",
            "Epoch : 80 | Train Loss: 0.013089174404740334 | Test Loss: 0.02994490973651409\n",
            "Epoch : 90 | Train Loss: 0.009653178043663502 | Test Loss: 0.02167237363755703\n",
            "Epoch : 100 | Train Loss: 0.006215683650225401 | Test Loss: 0.014086711220443249\n",
            "Epoch : 110 | Train Loss: 0.00278724217787385 | Test Loss: 0.005814164876937866\n",
            "Epoch : 120 | Train Loss: 0.0012645035749301314 | Test Loss: 0.013801801018416882\n",
            "Epoch : 130 | Train Loss: 0.0012645035749301314 | Test Loss: 0.013801801018416882\n",
            "Epoch : 140 | Train Loss: 0.0012645035749301314 | Test Loss: 0.013801801018416882\n",
            "Epoch : 150 | Train Loss: 0.0012645035749301314 | Test Loss: 0.013801801018416882\n",
            "Epoch : 160 | Train Loss: 0.0012645035749301314 | Test Loss: 0.013801801018416882\n",
            "Epoch : 170 | Train Loss: 0.0012645035749301314 | Test Loss: 0.013801801018416882\n",
            "Epoch : 180 | Train Loss: 0.0012645035749301314 | Test Loss: 0.013801801018416882\n",
            "Epoch : 190 | Train Loss: 0.0012645035749301314 | Test Loss: 0.013801801018416882\n"
          ]
        }
      ]
    },
    {
      "cell_type": "code",
      "source": [
        "model_1.state_dict()"
      ],
      "metadata": {
        "colab": {
          "base_uri": "https://localhost:8080/"
        },
        "id": "rKmYldfS-NnZ",
        "outputId": "e05aadbc-f898-414d-f9d1-e51fd241d052"
      },
      "execution_count": 59,
      "outputs": [
        {
          "output_type": "execute_result",
          "data": {
            "text/plain": [
              "OrderedDict([('linear_layer.weight', tensor([[0.6968]], device='cuda:0')),\n",
              "             ('linear_layer.bias', tensor([0.3025], device='cuda:0'))])"
            ]
          },
          "metadata": {},
          "execution_count": 59
        }
      ]
    },
    {
      "cell_type": "code",
      "source": [
        "real_weight, real_bias"
      ],
      "metadata": {
        "colab": {
          "base_uri": "https://localhost:8080/"
        },
        "id": "lltudV1V_MdN",
        "outputId": "279db7ca-6b77-42b6-922b-181546d74061"
      },
      "execution_count": 60,
      "outputs": [
        {
          "output_type": "execute_result",
          "data": {
            "text/plain": [
              "(0.7, 0.3)"
            ]
          },
          "metadata": {},
          "execution_count": 60
        }
      ]
    },
    {
      "cell_type": "code",
      "source": [
        "model_1.eval()\n",
        "\n",
        "with torch.inference_mode():\n",
        "  preds = model_1(X_test)"
      ],
      "metadata": {
        "id": "NsdnY_bC_QUl"
      },
      "execution_count": 72,
      "outputs": []
    },
    {
      "cell_type": "code",
      "source": [
        "plot_predictions(X_train.cpu(), y_train.cpu(), \n",
        "                 X_test.cpu(), y_test.cpu(),\n",
        "                 preds.cpu())"
      ],
      "metadata": {
        "colab": {
          "base_uri": "https://localhost:8080/",
          "height": 428
        },
        "id": "1g7d5Ehm_o4Y",
        "outputId": "62584823-da45-41b0-ed58-7f1fde193757"
      },
      "execution_count": 64,
      "outputs": [
        {
          "output_type": "display_data",
          "data": {
            "text/plain": [
              "<Figure size 720x504 with 1 Axes>"
            ],
            "image/png": "[encoded data removed]"
          },
          "metadata": {
            "needs_background": "light"
          }
        }
      ]
    },
    {
      "cell_type": "markdown",
      "source": [
        "### 6.5 Salvando e carregando o modelo"
      ],
      "metadata": {
        "id": "TIPqz0tXAIPJ"
      }
    },
    {
      "cell_type": "code",
      "source": [
        "from pathlib import Path\n",
        "\n",
        "MODEL_FOLDER_PATH = Path(\"./models\")\n",
        "MODEL_FOLDER_PATH.mkdir(parents=True, exist_ok=True)\n",
        "\n",
        "MODEL_NAME = \"01_pytorch_workflow_model_1.pth\"\n",
        "MODEL_SAVE_PATH = MODEL_FOLDER_PATH / MODEL_NAME"
      ],
      "metadata": {
        "id": "Th65teiGAnJS"
      },
      "execution_count": 66,
      "outputs": []
    },
    {
      "cell_type": "code",
      "source": [
        "torch.save(model_1.state_dict(), MODEL_SAVE_PATH)"
      ],
      "metadata": {
        "id": "G3RrQz5kBL3H"
      },
      "execution_count": 67,
      "outputs": []
    },
    {
      "cell_type": "code",
      "source": [
        "loaded_model_1 = LinearRegressionModelV2()\n",
        "loaded_model_1.load_state_dict(torch.load(MODEL_SAVE_PATH))\n",
        "loaded_model_1.to(device)"
      ],
      "metadata": {
        "colab": {
          "base_uri": "https://localhost:8080/"
        },
        "id": "afHZTylrBTZo",
        "outputId": "262ec89a-3005-4a55-903e-60d9a71c4b72"
      },
      "execution_count": 69,
      "outputs": [
        {
          "output_type": "execute_result",
          "data": {
            "text/plain": [
              "LinearRegressionModelV2(\n",
              "  (linear_layer): Linear(in_features=1, out_features=1, bias=True)\n",
              ")"
            ]
          },
          "metadata": {},
          "execution_count": 69
        }
      ]
    },
    {
      "cell_type": "code",
      "source": [
        "next(loaded_model_1.parameters()).device"
      ],
      "metadata": {
        "colab": {
          "base_uri": "https://localhost:8080/"
        },
        "id": "2Witw33eCRK7",
        "outputId": "e5095640-d40e-4105-9705-81b21b4ee222"
      },
      "execution_count": 70,
      "outputs": [
        {
          "output_type": "execute_result",
          "data": {
            "text/plain": [
              "device(type='cuda', index=0)"
            ]
          },
          "metadata": {},
          "execution_count": 70
        }
      ]
    },
    {
      "cell_type": "code",
      "source": [
        "loaded_model_1.state_dict()"
      ],
      "metadata": {
        "colab": {
          "base_uri": "https://localhost:8080/"
        },
        "id": "TU8k1ZDuCVsl",
        "outputId": "374a70a2-021f-407b-835c-23a510ff8aaa"
      },
      "execution_count": 71,
      "outputs": [
        {
          "output_type": "execute_result",
          "data": {
            "text/plain": [
              "OrderedDict([('linear_layer.weight', tensor([[0.6968]], device='cuda:0')),\n",
              "             ('linear_layer.bias', tensor([0.3025], device='cuda:0'))])"
            ]
          },
          "metadata": {},
          "execution_count": 71
        }
      ]
    },
    {
      "cell_type": "code",
      "source": [
        "loaded_model_1.eval()\n",
        "with torch.inference_mode():\n",
        "  loaded_preds = loaded_model_1(X_test)\n",
        "\n",
        "all(preds == loaded_preds)"
      ],
      "metadata": {
        "colab": {
          "base_uri": "https://localhost:8080/"
        },
        "id": "tBG6_ZHaBhpb",
        "outputId": "423014ff-9fff-4a9e-cf6d-a02295518f72"
      },
      "execution_count": 74,
      "outputs": [
        {
          "output_type": "execute_result",
          "data": {
            "text/plain": [
              "True"
            ]
          },
          "metadata": {},
          "execution_count": 74
        }
      ]
    }
  ]
}